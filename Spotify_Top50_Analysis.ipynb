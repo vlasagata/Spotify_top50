{
  "cells": [
    {
      "cell_type": "markdown",
      "id": "7006aa54-a8f0-4150-95ee-335d0a083a0f",
      "metadata": {
        "id": "7006aa54-a8f0-4150-95ee-335d0a083a0f"
      },
      "source": [
        "# **Spotify Top 50 Tracks 2020 Analysis**\n",
        "## Introduction\n",
        "\n",
        "This project explores the Top 50 most popular Spotify songs of 2020, focusing on their audio features using pandas in Python. The analysis was done using Jupyter Notebook and Google Colab, without any visualizations - the focus was on understanding the data through code, filtering, grouping, and correlation.\n",
        "\n",
        "## Project Goals:\n",
        "\n",
        "* Analyze audio features such as danceability, energy, loudness, acousticness, etc.\n",
        "\n",
        "* Compare genres to understand which musical characteristics are most common in the Top 50.\n",
        "\n",
        "* Identify correlations between features (e.g., energy and loudness).\n",
        "\n",
        "* Practice real-world data analysis using pandas.\n",
        "\n",
        "## Key Insights:\n",
        "\n",
        "**Pop** is the most frequent genre in the Top 50, followed by Hip-Hop/Rap.\n",
        "\n",
        "**Dance/Electronic and Hip-Hop/Rap** songs have the highest danceability scores.\n",
        "\n",
        "**Energy and loudness** show a strong positive correlation (0.79), while **energy and acousticness** are strongly negatively correlated (-0.68).\n",
        "\n",
        "Most other features have weak or no correlation, suggesting they vary independently.\n",
        "\n",
        "## Tools Used:\n",
        "\n",
        "Python & pandas\n",
        "\n",
        "Jupyter Notebook / Google Colab\n",
        "\n",
        "Dataset: [Kaggle - Top 50 Spotify Songs of 2020](https://www.kaggle.com/datasets/atillacolak/top-50-spotify-tracks-2020)"
      ]
    },
    {
      "cell_type": "markdown",
      "id": "4e4e0e67-c80b-4c87-a098-07252ae0b3d8",
      "metadata": {
        "id": "4e4e0e67-c80b-4c87-a098-07252ae0b3d8"
      },
      "source": [
        "### Data Loading"
      ]
    },
    {
      "cell_type": "code",
      "execution_count": null,
      "id": "3b088cb2-9c84-46d0-9d34-fb94b8e45e6a",
      "metadata": {
        "colab": {
          "base_uri": "https://localhost:8080/",
          "height": 394
        },
        "id": "3b088cb2-9c84-46d0-9d34-fb94b8e45e6a",
        "outputId": "e9633803-8190-4d34-bef5-c56b2667ecce"
      },
      "outputs": [
        {
          "output_type": "execute_result",
          "data": {
            "text/plain": [
              "   Unnamed: 0       artist                                  album  \\\n",
              "0           0   The Weeknd                            After Hours   \n",
              "1           1  Tones And I                           Dance Monkey   \n",
              "2           2  Roddy Ricch  Please Excuse Me For Being Antisocial   \n",
              "3           3    SAINt JHN                  Roses (Imanbek Remix)   \n",
              "4           4     Dua Lipa                       Future Nostalgia   \n",
              "\n",
              "              track_name                track_id  energy  danceability  key  \\\n",
              "0        Blinding Lights  0VjIjW4GlUZAMYd2vXMi3b   0.730         0.514    1   \n",
              "1           Dance Monkey  1rgnBhdG2JDFTbYkYRZAku   0.593         0.825    6   \n",
              "2                The Box  0nbXyq5TXYPCO7pr3N8S4I   0.586         0.896   10   \n",
              "3  Roses - Imanbek Remix  2Wo6QQD1KMDWeFkkjLqwx5   0.721         0.785    8   \n",
              "4        Don't Start Now  3PfIrDoz19wz7qK7tYeu62   0.793         0.793   11   \n",
              "\n",
              "   loudness  acousticness  speechiness  instrumentalness  liveness  valence  \\\n",
              "0    -5.934       0.00146       0.0598          0.000095    0.0897    0.334   \n",
              "1    -6.401       0.68800       0.0988          0.000161    0.1700    0.540   \n",
              "2    -6.687       0.10400       0.0559          0.000000    0.7900    0.642   \n",
              "3    -5.457       0.01490       0.0506          0.004320    0.2850    0.894   \n",
              "4    -4.521       0.01230       0.0830          0.000000    0.0951    0.679   \n",
              "\n",
              "     tempo  duration_ms              genre  \n",
              "0  171.005       200040           R&B/Soul  \n",
              "1   98.078       209755  Alternative/Indie  \n",
              "2  116.971       196653        Hip-Hop/Rap  \n",
              "3  121.962       176219   Dance/Electronic  \n",
              "4  123.950       183290           Nu-disco  "
            ],
            "text/html": [
              "\n",
              "  <div id=\"df-496401b9-8e49-4317-a1f4-47a68d9db5c4\" class=\"colab-df-container\">\n",
              "    <div>\n",
              "<style scoped>\n",
              "    .dataframe tbody tr th:only-of-type {\n",
              "        vertical-align: middle;\n",
              "    }\n",
              "\n",
              "    .dataframe tbody tr th {\n",
              "        vertical-align: top;\n",
              "    }\n",
              "\n",
              "    .dataframe thead th {\n",
              "        text-align: right;\n",
              "    }\n",
              "</style>\n",
              "<table border=\"1\" class=\"dataframe\">\n",
              "  <thead>\n",
              "    <tr style=\"text-align: right;\">\n",
              "      <th></th>\n",
              "      <th>Unnamed: 0</th>\n",
              "      <th>artist</th>\n",
              "      <th>album</th>\n",
              "      <th>track_name</th>\n",
              "      <th>track_id</th>\n",
              "      <th>energy</th>\n",
              "      <th>danceability</th>\n",
              "      <th>key</th>\n",
              "      <th>loudness</th>\n",
              "      <th>acousticness</th>\n",
              "      <th>speechiness</th>\n",
              "      <th>instrumentalness</th>\n",
              "      <th>liveness</th>\n",
              "      <th>valence</th>\n",
              "      <th>tempo</th>\n",
              "      <th>duration_ms</th>\n",
              "      <th>genre</th>\n",
              "    </tr>\n",
              "  </thead>\n",
              "  <tbody>\n",
              "    <tr>\n",
              "      <th>0</th>\n",
              "      <td>0</td>\n",
              "      <td>The Weeknd</td>\n",
              "      <td>After Hours</td>\n",
              "      <td>Blinding Lights</td>\n",
              "      <td>0VjIjW4GlUZAMYd2vXMi3b</td>\n",
              "      <td>0.730</td>\n",
              "      <td>0.514</td>\n",
              "      <td>1</td>\n",
              "      <td>-5.934</td>\n",
              "      <td>0.00146</td>\n",
              "      <td>0.0598</td>\n",
              "      <td>0.000095</td>\n",
              "      <td>0.0897</td>\n",
              "      <td>0.334</td>\n",
              "      <td>171.005</td>\n",
              "      <td>200040</td>\n",
              "      <td>R&amp;B/Soul</td>\n",
              "    </tr>\n",
              "    <tr>\n",
              "      <th>1</th>\n",
              "      <td>1</td>\n",
              "      <td>Tones And I</td>\n",
              "      <td>Dance Monkey</td>\n",
              "      <td>Dance Monkey</td>\n",
              "      <td>1rgnBhdG2JDFTbYkYRZAku</td>\n",
              "      <td>0.593</td>\n",
              "      <td>0.825</td>\n",
              "      <td>6</td>\n",
              "      <td>-6.401</td>\n",
              "      <td>0.68800</td>\n",
              "      <td>0.0988</td>\n",
              "      <td>0.000161</td>\n",
              "      <td>0.1700</td>\n",
              "      <td>0.540</td>\n",
              "      <td>98.078</td>\n",
              "      <td>209755</td>\n",
              "      <td>Alternative/Indie</td>\n",
              "    </tr>\n",
              "    <tr>\n",
              "      <th>2</th>\n",
              "      <td>2</td>\n",
              "      <td>Roddy Ricch</td>\n",
              "      <td>Please Excuse Me For Being Antisocial</td>\n",
              "      <td>The Box</td>\n",
              "      <td>0nbXyq5TXYPCO7pr3N8S4I</td>\n",
              "      <td>0.586</td>\n",
              "      <td>0.896</td>\n",
              "      <td>10</td>\n",
              "      <td>-6.687</td>\n",
              "      <td>0.10400</td>\n",
              "      <td>0.0559</td>\n",
              "      <td>0.000000</td>\n",
              "      <td>0.7900</td>\n",
              "      <td>0.642</td>\n",
              "      <td>116.971</td>\n",
              "      <td>196653</td>\n",
              "      <td>Hip-Hop/Rap</td>\n",
              "    </tr>\n",
              "    <tr>\n",
              "      <th>3</th>\n",
              "      <td>3</td>\n",
              "      <td>SAINt JHN</td>\n",
              "      <td>Roses (Imanbek Remix)</td>\n",
              "      <td>Roses - Imanbek Remix</td>\n",
              "      <td>2Wo6QQD1KMDWeFkkjLqwx5</td>\n",
              "      <td>0.721</td>\n",
              "      <td>0.785</td>\n",
              "      <td>8</td>\n",
              "      <td>-5.457</td>\n",
              "      <td>0.01490</td>\n",
              "      <td>0.0506</td>\n",
              "      <td>0.004320</td>\n",
              "      <td>0.2850</td>\n",
              "      <td>0.894</td>\n",
              "      <td>121.962</td>\n",
              "      <td>176219</td>\n",
              "      <td>Dance/Electronic</td>\n",
              "    </tr>\n",
              "    <tr>\n",
              "      <th>4</th>\n",
              "      <td>4</td>\n",
              "      <td>Dua Lipa</td>\n",
              "      <td>Future Nostalgia</td>\n",
              "      <td>Don't Start Now</td>\n",
              "      <td>3PfIrDoz19wz7qK7tYeu62</td>\n",
              "      <td>0.793</td>\n",
              "      <td>0.793</td>\n",
              "      <td>11</td>\n",
              "      <td>-4.521</td>\n",
              "      <td>0.01230</td>\n",
              "      <td>0.0830</td>\n",
              "      <td>0.000000</td>\n",
              "      <td>0.0951</td>\n",
              "      <td>0.679</td>\n",
              "      <td>123.950</td>\n",
              "      <td>183290</td>\n",
              "      <td>Nu-disco</td>\n",
              "    </tr>\n",
              "  </tbody>\n",
              "</table>\n",
              "</div>\n",
              "    <div class=\"colab-df-buttons\">\n",
              "\n",
              "  <div class=\"colab-df-container\">\n",
              "    <button class=\"colab-df-convert\" onclick=\"convertToInteractive('df-496401b9-8e49-4317-a1f4-47a68d9db5c4')\"\n",
              "            title=\"Convert this dataframe to an interactive table.\"\n",
              "            style=\"display:none;\">\n",
              "\n",
              "  <svg xmlns=\"http://www.w3.org/2000/svg\" height=\"24px\" viewBox=\"0 -960 960 960\">\n",
              "    <path d=\"M120-120v-720h720v720H120Zm60-500h600v-160H180v160Zm220 220h160v-160H400v160Zm0 220h160v-160H400v160ZM180-400h160v-160H180v160Zm440 0h160v-160H620v160ZM180-180h160v-160H180v160Zm440 0h160v-160H620v160Z\"/>\n",
              "  </svg>\n",
              "    </button>\n",
              "\n",
              "  <style>\n",
              "    .colab-df-container {\n",
              "      display:flex;\n",
              "      gap: 12px;\n",
              "    }\n",
              "\n",
              "    .colab-df-convert {\n",
              "      background-color: #E8F0FE;\n",
              "      border: none;\n",
              "      border-radius: 50%;\n",
              "      cursor: pointer;\n",
              "      display: none;\n",
              "      fill: #1967D2;\n",
              "      height: 32px;\n",
              "      padding: 0 0 0 0;\n",
              "      width: 32px;\n",
              "    }\n",
              "\n",
              "    .colab-df-convert:hover {\n",
              "      background-color: #E2EBFA;\n",
              "      box-shadow: 0px 1px 2px rgba(60, 64, 67, 0.3), 0px 1px 3px 1px rgba(60, 64, 67, 0.15);\n",
              "      fill: #174EA6;\n",
              "    }\n",
              "\n",
              "    .colab-df-buttons div {\n",
              "      margin-bottom: 4px;\n",
              "    }\n",
              "\n",
              "    [theme=dark] .colab-df-convert {\n",
              "      background-color: #3B4455;\n",
              "      fill: #D2E3FC;\n",
              "    }\n",
              "\n",
              "    [theme=dark] .colab-df-convert:hover {\n",
              "      background-color: #434B5C;\n",
              "      box-shadow: 0px 1px 3px 1px rgba(0, 0, 0, 0.15);\n",
              "      filter: drop-shadow(0px 1px 2px rgba(0, 0, 0, 0.3));\n",
              "      fill: #FFFFFF;\n",
              "    }\n",
              "  </style>\n",
              "\n",
              "    <script>\n",
              "      const buttonEl =\n",
              "        document.querySelector('#df-496401b9-8e49-4317-a1f4-47a68d9db5c4 button.colab-df-convert');\n",
              "      buttonEl.style.display =\n",
              "        google.colab.kernel.accessAllowed ? 'block' : 'none';\n",
              "\n",
              "      async function convertToInteractive(key) {\n",
              "        const element = document.querySelector('#df-496401b9-8e49-4317-a1f4-47a68d9db5c4');\n",
              "        const dataTable =\n",
              "          await google.colab.kernel.invokeFunction('convertToInteractive',\n",
              "                                                    [key], {});\n",
              "        if (!dataTable) return;\n",
              "\n",
              "        const docLinkHtml = 'Like what you see? Visit the ' +\n",
              "          '<a target=\"_blank\" href=https://colab.research.google.com/notebooks/data_table.ipynb>data table notebook</a>'\n",
              "          + ' to learn more about interactive tables.';\n",
              "        element.innerHTML = '';\n",
              "        dataTable['output_type'] = 'display_data';\n",
              "        await google.colab.output.renderOutput(dataTable, element);\n",
              "        const docLink = document.createElement('div');\n",
              "        docLink.innerHTML = docLinkHtml;\n",
              "        element.appendChild(docLink);\n",
              "      }\n",
              "    </script>\n",
              "  </div>\n",
              "\n",
              "\n",
              "<div id=\"df-294e480f-2e0e-4652-b5a9-441ff8988c5e\">\n",
              "  <button class=\"colab-df-quickchart\" onclick=\"quickchart('df-294e480f-2e0e-4652-b5a9-441ff8988c5e')\"\n",
              "            title=\"Suggest charts\"\n",
              "            style=\"display:none;\">\n",
              "\n",
              "<svg xmlns=\"http://www.w3.org/2000/svg\" height=\"24px\"viewBox=\"0 0 24 24\"\n",
              "     width=\"24px\">\n",
              "    <g>\n",
              "        <path d=\"M19 3H5c-1.1 0-2 .9-2 2v14c0 1.1.9 2 2 2h14c1.1 0 2-.9 2-2V5c0-1.1-.9-2-2-2zM9 17H7v-7h2v7zm4 0h-2V7h2v10zm4 0h-2v-4h2v4z\"/>\n",
              "    </g>\n",
              "</svg>\n",
              "  </button>\n",
              "\n",
              "<style>\n",
              "  .colab-df-quickchart {\n",
              "      --bg-color: #E8F0FE;\n",
              "      --fill-color: #1967D2;\n",
              "      --hover-bg-color: #E2EBFA;\n",
              "      --hover-fill-color: #174EA6;\n",
              "      --disabled-fill-color: #AAA;\n",
              "      --disabled-bg-color: #DDD;\n",
              "  }\n",
              "\n",
              "  [theme=dark] .colab-df-quickchart {\n",
              "      --bg-color: #3B4455;\n",
              "      --fill-color: #D2E3FC;\n",
              "      --hover-bg-color: #434B5C;\n",
              "      --hover-fill-color: #FFFFFF;\n",
              "      --disabled-bg-color: #3B4455;\n",
              "      --disabled-fill-color: #666;\n",
              "  }\n",
              "\n",
              "  .colab-df-quickchart {\n",
              "    background-color: var(--bg-color);\n",
              "    border: none;\n",
              "    border-radius: 50%;\n",
              "    cursor: pointer;\n",
              "    display: none;\n",
              "    fill: var(--fill-color);\n",
              "    height: 32px;\n",
              "    padding: 0;\n",
              "    width: 32px;\n",
              "  }\n",
              "\n",
              "  .colab-df-quickchart:hover {\n",
              "    background-color: var(--hover-bg-color);\n",
              "    box-shadow: 0 1px 2px rgba(60, 64, 67, 0.3), 0 1px 3px 1px rgba(60, 64, 67, 0.15);\n",
              "    fill: var(--button-hover-fill-color);\n",
              "  }\n",
              "\n",
              "  .colab-df-quickchart-complete:disabled,\n",
              "  .colab-df-quickchart-complete:disabled:hover {\n",
              "    background-color: var(--disabled-bg-color);\n",
              "    fill: var(--disabled-fill-color);\n",
              "    box-shadow: none;\n",
              "  }\n",
              "\n",
              "  .colab-df-spinner {\n",
              "    border: 2px solid var(--fill-color);\n",
              "    border-color: transparent;\n",
              "    border-bottom-color: var(--fill-color);\n",
              "    animation:\n",
              "      spin 1s steps(1) infinite;\n",
              "  }\n",
              "\n",
              "  @keyframes spin {\n",
              "    0% {\n",
              "      border-color: transparent;\n",
              "      border-bottom-color: var(--fill-color);\n",
              "      border-left-color: var(--fill-color);\n",
              "    }\n",
              "    20% {\n",
              "      border-color: transparent;\n",
              "      border-left-color: var(--fill-color);\n",
              "      border-top-color: var(--fill-color);\n",
              "    }\n",
              "    30% {\n",
              "      border-color: transparent;\n",
              "      border-left-color: var(--fill-color);\n",
              "      border-top-color: var(--fill-color);\n",
              "      border-right-color: var(--fill-color);\n",
              "    }\n",
              "    40% {\n",
              "      border-color: transparent;\n",
              "      border-right-color: var(--fill-color);\n",
              "      border-top-color: var(--fill-color);\n",
              "    }\n",
              "    60% {\n",
              "      border-color: transparent;\n",
              "      border-right-color: var(--fill-color);\n",
              "    }\n",
              "    80% {\n",
              "      border-color: transparent;\n",
              "      border-right-color: var(--fill-color);\n",
              "      border-bottom-color: var(--fill-color);\n",
              "    }\n",
              "    90% {\n",
              "      border-color: transparent;\n",
              "      border-bottom-color: var(--fill-color);\n",
              "    }\n",
              "  }\n",
              "</style>\n",
              "\n",
              "  <script>\n",
              "    async function quickchart(key) {\n",
              "      const quickchartButtonEl =\n",
              "        document.querySelector('#' + key + ' button');\n",
              "      quickchartButtonEl.disabled = true;  // To prevent multiple clicks.\n",
              "      quickchartButtonEl.classList.add('colab-df-spinner');\n",
              "      try {\n",
              "        const charts = await google.colab.kernel.invokeFunction(\n",
              "            'suggestCharts', [key], {});\n",
              "      } catch (error) {\n",
              "        console.error('Error during call to suggestCharts:', error);\n",
              "      }\n",
              "      quickchartButtonEl.classList.remove('colab-df-spinner');\n",
              "      quickchartButtonEl.classList.add('colab-df-quickchart-complete');\n",
              "    }\n",
              "    (() => {\n",
              "      let quickchartButtonEl =\n",
              "        document.querySelector('#df-294e480f-2e0e-4652-b5a9-441ff8988c5e button');\n",
              "      quickchartButtonEl.style.display =\n",
              "        google.colab.kernel.accessAllowed ? 'block' : 'none';\n",
              "    })();\n",
              "  </script>\n",
              "</div>\n",
              "\n",
              "    </div>\n",
              "  </div>\n"
            ],
            "application/vnd.google.colaboratory.intrinsic+json": {
              "type": "dataframe",
              "variable_name": "df",
              "summary": "{\n  \"name\": \"df\",\n  \"rows\": 50,\n  \"fields\": [\n    {\n      \"column\": \"Unnamed: 0\",\n      \"properties\": {\n        \"dtype\": \"number\",\n        \"std\": 14,\n        \"min\": 0,\n        \"max\": 49,\n        \"num_unique_values\": 50,\n        \"samples\": [\n          13,\n          39,\n          30\n        ],\n        \"semantic_type\": \"\",\n        \"description\": \"\"\n      }\n    },\n    {\n      \"column\": \"artist\",\n      \"properties\": {\n        \"dtype\": \"string\",\n        \"num_unique_values\": 40,\n        \"samples\": [\n          \"Jawsh 685\",\n          \"Doja Cat\",\n          \"Drake\"\n        ],\n        \"semantic_type\": \"\",\n        \"description\": \"\"\n      }\n    },\n    {\n      \"column\": \"album\",\n      \"properties\": {\n        \"dtype\": \"string\",\n        \"num_unique_values\": 45,\n        \"samples\": [\n          \"YHLQMDLG\",\n          \"WHEN WE ALL FALL ASLEEP, WHERE DO WE GO?\",\n          \"WAP (feat. Megan Thee Stallion)\"\n        ],\n        \"semantic_type\": \"\",\n        \"description\": \"\"\n      }\n    },\n    {\n      \"column\": \"track_name\",\n      \"properties\": {\n        \"dtype\": \"string\",\n        \"num_unique_values\": 50,\n        \"samples\": [\n          \"Blueberry Faygo\",\n          \"Ride It\",\n          \"Yummy\"\n        ],\n        \"semantic_type\": \"\",\n        \"description\": \"\"\n      }\n    },\n    {\n      \"column\": \"track_id\",\n      \"properties\": {\n        \"dtype\": \"string\",\n        \"num_unique_values\": 50,\n        \"samples\": [\n          \"22LAwLoDA5b4AaGSkg6bKW\",\n          \"2tnVG71enUj33Ic2nFN6kZ\",\n          \"16wAOAZ2OkqoIDN7TpChjR\"\n        ],\n        \"semantic_type\": \"\",\n        \"description\": \"\"\n      }\n    },\n    {\n      \"column\": \"energy\",\n      \"properties\": {\n        \"dtype\": \"number\",\n        \"std\": 0.15434816857629746,\n        \"min\": 0.225,\n        \"max\": 0.855,\n        \"num_unique_values\": 49,\n        \"samples\": [\n          0.554,\n          0.566,\n          0.473\n        ],\n        \"semantic_type\": \"\",\n        \"description\": \"\"\n      }\n    },\n    {\n      \"column\": \"danceability\",\n      \"properties\": {\n        \"dtype\": \"number\",\n        \"std\": 0.12497526939032248,\n        \"min\": 0.351,\n        \"max\": 0.935,\n        \"num_unique_values\": 48,\n        \"samples\": [\n          0.935,\n          0.716,\n          0.701\n        ],\n        \"semantic_type\": \"\",\n        \"description\": \"\"\n      }\n    },\n    {\n      \"column\": \"key\",\n      \"properties\": {\n        \"dtype\": \"number\",\n        \"std\": 3,\n        \"min\": 0,\n        \"max\": 11,\n        \"num_unique_values\": 12,\n        \"samples\": [\n          5,\n          7,\n          1\n        ],\n        \"semantic_type\": \"\",\n        \"description\": \"\"\n      }\n    },\n    {\n      \"column\": \"loudness\",\n      \"properties\": {\n        \"dtype\": \"number\",\n        \"std\": 2.3497437571977495,\n        \"min\": -14.454,\n        \"max\": -3.28,\n        \"num_unique_values\": 50,\n        \"samples\": [\n          -7.909,\n          -4.258,\n          -6.652\n        ],\n        \"semantic_type\": \"\",\n        \"description\": \"\"\n      }\n    },\n    {\n      \"column\": \"acousticness\",\n      \"properties\": {\n        \"dtype\": \"number\",\n        \"std\": 0.2652504754200667,\n        \"min\": 0.00146,\n        \"max\": 0.934,\n        \"num_unique_values\": 49,\n        \"samples\": [\n          0.207,\n          0.349,\n          0.0137\n        ],\n        \"semantic_type\": \"\",\n        \"description\": \"\"\n      }\n    },\n    {\n      \"column\": \"speechiness\",\n      \"properties\": {\n        \"dtype\": \"number\",\n        \"std\": 0.116836367503567,\n        \"min\": 0.029,\n        \"max\": 0.487,\n        \"num_unique_values\": 48,\n        \"samples\": [\n          0.0578,\n          0.0514,\n          0.375\n        ],\n        \"semantic_type\": \"\",\n        \"description\": \"\"\n      }\n    },\n    {\n      \"column\": \"instrumentalness\",\n      \"properties\": {\n        \"dtype\": \"number\",\n        \"std\": 0.09431165145317491,\n        \"min\": 0.0,\n        \"max\": 0.657,\n        \"num_unique_values\": 19,\n        \"samples\": [\n          9.54e-05,\n          0.00244,\n          1.39e-06\n        ],\n        \"semantic_type\": \"\",\n        \"description\": \"\"\n      }\n    },\n    {\n      \"column\": \"liveness\",\n      \"properties\": {\n        \"dtype\": \"number\",\n        \"std\": 0.176609946376708,\n        \"min\": 0.0574,\n        \"max\": 0.792,\n        \"num_unique_values\": 47,\n        \"samples\": [\n          0.0714,\n          0.792,\n          0.0824\n        ],\n        \"semantic_type\": \"\",\n        \"description\": \"\"\n      }\n    },\n    {\n      \"column\": \"valence\",\n      \"properties\": {\n        \"dtype\": \"number\",\n        \"std\": 0.21638641951615262,\n        \"min\": 0.0605,\n        \"max\": 0.925,\n        \"num_unique_values\": 47,\n        \"samples\": [\n          0.357,\n          0.43,\n          0.562\n        ],\n        \"semantic_type\": \"\",\n        \"description\": \"\"\n      }\n    },\n    {\n      \"column\": \"tempo\",\n      \"properties\": {\n        \"dtype\": \"number\",\n        \"std\": 25.414778362855365,\n        \"min\": 75.801,\n        \"max\": 180.067,\n        \"num_unique_values\": 50,\n        \"samples\": [\n          99.034,\n          117.948,\n          145.842\n        ],\n        \"semantic_type\": \"\",\n        \"description\": \"\"\n      }\n    },\n    {\n      \"column\": \"duration_ms\",\n      \"properties\": {\n        \"dtype\": \"number\",\n        \"std\": 33996,\n        \"min\": 140526,\n        \"max\": 312820,\n        \"num_unique_values\": 50,\n        \"samples\": [\n          162547,\n          157606,\n          208520\n        ],\n        \"semantic_type\": \"\",\n        \"description\": \"\"\n      }\n    },\n    {\n      \"column\": \"genre\",\n      \"properties\": {\n        \"dtype\": \"category\",\n        \"num_unique_values\": 16,\n        \"samples\": [\n          \"R&B/Soul\",\n          \"Alternative/Indie\",\n          \"Pop\"\n        ],\n        \"semantic_type\": \"\",\n        \"description\": \"\"\n      }\n    }\n  ]\n}"
            }
          },
          "metadata": {},
          "execution_count": 38
        }
      ],
      "source": [
        "import pandas as pd\n",
        "df = pd.read_csv('spotifytoptracks.csv')\n",
        "df.head()"
      ]
    },
    {
      "cell_type": "markdown",
      "id": "ba36b5ac-7bdc-4b12-a67c-def9d8ff69fb",
      "metadata": {
        "id": "ba36b5ac-7bdc-4b12-a67c-def9d8ff69fb"
      },
      "source": [
        "### Data Cleaning"
      ]
    },
    {
      "cell_type": "code",
      "execution_count": 72,
      "id": "7d88d27a-7b32-4b1f-97cd-c709d30f46e4",
      "metadata": {
        "colab": {
          "base_uri": "https://localhost:8080/"
        },
        "id": "7d88d27a-7b32-4b1f-97cd-c709d30f46e4",
        "outputId": "1275b7b0-5d1a-47f1-b5bf-3665f2477fae"
      },
      "outputs": [
        {
          "output_type": "stream",
          "name": "stdout",
          "text": [
            "<class 'pandas.core.frame.DataFrame'>\n",
            "RangeIndex: 50 entries, 0 to 49\n",
            "Data columns (total 18 columns):\n",
            " #   Column             Non-Null Count  Dtype   \n",
            "---  ------             --------------  -----   \n",
            " 0   Unnamed: 0         50 non-null     int64   \n",
            " 1   artist             50 non-null     object  \n",
            " 2   album              50 non-null     object  \n",
            " 3   track_name         50 non-null     object  \n",
            " 4   track_id           50 non-null     object  \n",
            " 5   energy             50 non-null     float64 \n",
            " 6   danceability       50 non-null     float64 \n",
            " 7   key                50 non-null     int64   \n",
            " 8   loudness           50 non-null     float64 \n",
            " 9   acousticness       50 non-null     float64 \n",
            " 10  speechiness        50 non-null     float64 \n",
            " 11  instrumentalness   50 non-null     float64 \n",
            " 12  liveness           50 non-null     float64 \n",
            " 13  valence            50 non-null     float64 \n",
            " 14  tempo              50 non-null     float64 \n",
            " 15  duration_ms        50 non-null     int64   \n",
            " 16  genre              50 non-null     object  \n",
            " 17  duration_category  50 non-null     category\n",
            "dtypes: category(1), float64(9), int64(3), object(5)\n",
            "memory usage: 6.9+ KB\n"
          ]
        }
      ],
      "source": [
        "df.info()"
      ]
    },
    {
      "cell_type": "markdown",
      "id": "d5181be8-45d6-43d0-b359-63d7f3f5f60b",
      "metadata": {
        "id": "d5181be8-45d6-43d0-b359-63d7f3f5f60b"
      },
      "source": [
        "We checked for missing values. All rows are complete across all columns, so no missing data was found."
      ]
    },
    {
      "cell_type": "code",
      "execution_count": null,
      "id": "bcbdd64e-fc5f-4c71-84f0-347eb0192e8d",
      "metadata": {
        "scrolled": true,
        "colab": {
          "base_uri": "https://localhost:8080/"
        },
        "id": "bcbdd64e-fc5f-4c71-84f0-347eb0192e8d",
        "outputId": "f6d9709a-437f-4862-a10f-d68fbab90818"
      },
      "outputs": [
        {
          "output_type": "execute_result",
          "data": {
            "text/plain": [
              "np.int64(0)"
            ]
          },
          "metadata": {},
          "execution_count": 21
        }
      ],
      "source": [
        "df.duplicated().sum()"
      ]
    },
    {
      "cell_type": "markdown",
      "id": "c8db7057-5c48-4df7-a3d6-4252d78e1c3a",
      "metadata": {
        "id": "c8db7057-5c48-4df7-a3d6-4252d78e1c3a"
      },
      "source": [
        "We checked for duplicate rows. The result showed 0 duplicates, meaning all songs in the dataset are unique."
      ]
    },
    {
      "cell_type": "code",
      "source": [
        "desc = df.describe().round(3).drop('count', axis=0).drop('Unnamed: 0', axis=1)\n",
        "desc\n"
      ],
      "metadata": {
        "colab": {
          "base_uri": "https://localhost:8080/",
          "height": 266
        },
        "id": "8lqzW0VV62-W",
        "outputId": "77b2c7db-285b-431e-bf58-e88fcbf181c3"
      },
      "id": "8lqzW0VV62-W",
      "execution_count": null,
      "outputs": [
        {
          "output_type": "execute_result",
          "data": {
            "text/plain": [
              "      energy  danceability     key  loudness  acousticness  speechiness  \\\n",
              "mean   0.609         0.717   5.720    -6.226         0.256        0.124   \n",
              "std    0.154         0.125   3.709     2.350         0.265        0.117   \n",
              "min    0.225         0.351   0.000   -14.454         0.001        0.029   \n",
              "25%    0.494         0.673   2.000    -7.552         0.053        0.048   \n",
              "50%    0.597         0.746   6.500    -5.992         0.188        0.070   \n",
              "75%    0.730         0.794   8.750    -4.286         0.299        0.156   \n",
              "max    0.855         0.935  11.000    -3.280         0.934        0.487   \n",
              "\n",
              "      instrumentalness  liveness  valence    tempo  duration_ms  \n",
              "mean             0.016     0.197    0.556  119.690   199955.360  \n",
              "std              0.094     0.177    0.216   25.415    33996.122  \n",
              "min              0.000     0.057    0.060   75.801   140526.000  \n",
              "25%              0.000     0.094    0.434   99.557   175845.500  \n",
              "50%              0.000     0.111    0.560  116.969   197853.500  \n",
              "75%              0.000     0.271    0.726  132.317   215064.000  \n",
              "max              0.657     0.792    0.925  180.067   312820.000  "
            ],
            "text/html": [
              "\n",
              "  <div id=\"df-abdefeec-d21b-45c5-a1f5-d5107645ee6c\" class=\"colab-df-container\">\n",
              "    <div>\n",
              "<style scoped>\n",
              "    .dataframe tbody tr th:only-of-type {\n",
              "        vertical-align: middle;\n",
              "    }\n",
              "\n",
              "    .dataframe tbody tr th {\n",
              "        vertical-align: top;\n",
              "    }\n",
              "\n",
              "    .dataframe thead th {\n",
              "        text-align: right;\n",
              "    }\n",
              "</style>\n",
              "<table border=\"1\" class=\"dataframe\">\n",
              "  <thead>\n",
              "    <tr style=\"text-align: right;\">\n",
              "      <th></th>\n",
              "      <th>energy</th>\n",
              "      <th>danceability</th>\n",
              "      <th>key</th>\n",
              "      <th>loudness</th>\n",
              "      <th>acousticness</th>\n",
              "      <th>speechiness</th>\n",
              "      <th>instrumentalness</th>\n",
              "      <th>liveness</th>\n",
              "      <th>valence</th>\n",
              "      <th>tempo</th>\n",
              "      <th>duration_ms</th>\n",
              "    </tr>\n",
              "  </thead>\n",
              "  <tbody>\n",
              "    <tr>\n",
              "      <th>mean</th>\n",
              "      <td>0.609</td>\n",
              "      <td>0.717</td>\n",
              "      <td>5.720</td>\n",
              "      <td>-6.226</td>\n",
              "      <td>0.256</td>\n",
              "      <td>0.124</td>\n",
              "      <td>0.016</td>\n",
              "      <td>0.197</td>\n",
              "      <td>0.556</td>\n",
              "      <td>119.690</td>\n",
              "      <td>199955.360</td>\n",
              "    </tr>\n",
              "    <tr>\n",
              "      <th>std</th>\n",
              "      <td>0.154</td>\n",
              "      <td>0.125</td>\n",
              "      <td>3.709</td>\n",
              "      <td>2.350</td>\n",
              "      <td>0.265</td>\n",
              "      <td>0.117</td>\n",
              "      <td>0.094</td>\n",
              "      <td>0.177</td>\n",
              "      <td>0.216</td>\n",
              "      <td>25.415</td>\n",
              "      <td>33996.122</td>\n",
              "    </tr>\n",
              "    <tr>\n",
              "      <th>min</th>\n",
              "      <td>0.225</td>\n",
              "      <td>0.351</td>\n",
              "      <td>0.000</td>\n",
              "      <td>-14.454</td>\n",
              "      <td>0.001</td>\n",
              "      <td>0.029</td>\n",
              "      <td>0.000</td>\n",
              "      <td>0.057</td>\n",
              "      <td>0.060</td>\n",
              "      <td>75.801</td>\n",
              "      <td>140526.000</td>\n",
              "    </tr>\n",
              "    <tr>\n",
              "      <th>25%</th>\n",
              "      <td>0.494</td>\n",
              "      <td>0.673</td>\n",
              "      <td>2.000</td>\n",
              "      <td>-7.552</td>\n",
              "      <td>0.053</td>\n",
              "      <td>0.048</td>\n",
              "      <td>0.000</td>\n",
              "      <td>0.094</td>\n",
              "      <td>0.434</td>\n",
              "      <td>99.557</td>\n",
              "      <td>175845.500</td>\n",
              "    </tr>\n",
              "    <tr>\n",
              "      <th>50%</th>\n",
              "      <td>0.597</td>\n",
              "      <td>0.746</td>\n",
              "      <td>6.500</td>\n",
              "      <td>-5.992</td>\n",
              "      <td>0.188</td>\n",
              "      <td>0.070</td>\n",
              "      <td>0.000</td>\n",
              "      <td>0.111</td>\n",
              "      <td>0.560</td>\n",
              "      <td>116.969</td>\n",
              "      <td>197853.500</td>\n",
              "    </tr>\n",
              "    <tr>\n",
              "      <th>75%</th>\n",
              "      <td>0.730</td>\n",
              "      <td>0.794</td>\n",
              "      <td>8.750</td>\n",
              "      <td>-4.286</td>\n",
              "      <td>0.299</td>\n",
              "      <td>0.156</td>\n",
              "      <td>0.000</td>\n",
              "      <td>0.271</td>\n",
              "      <td>0.726</td>\n",
              "      <td>132.317</td>\n",
              "      <td>215064.000</td>\n",
              "    </tr>\n",
              "    <tr>\n",
              "      <th>max</th>\n",
              "      <td>0.855</td>\n",
              "      <td>0.935</td>\n",
              "      <td>11.000</td>\n",
              "      <td>-3.280</td>\n",
              "      <td>0.934</td>\n",
              "      <td>0.487</td>\n",
              "      <td>0.657</td>\n",
              "      <td>0.792</td>\n",
              "      <td>0.925</td>\n",
              "      <td>180.067</td>\n",
              "      <td>312820.000</td>\n",
              "    </tr>\n",
              "  </tbody>\n",
              "</table>\n",
              "</div>\n",
              "    <div class=\"colab-df-buttons\">\n",
              "\n",
              "  <div class=\"colab-df-container\">\n",
              "    <button class=\"colab-df-convert\" onclick=\"convertToInteractive('df-abdefeec-d21b-45c5-a1f5-d5107645ee6c')\"\n",
              "            title=\"Convert this dataframe to an interactive table.\"\n",
              "            style=\"display:none;\">\n",
              "\n",
              "  <svg xmlns=\"http://www.w3.org/2000/svg\" height=\"24px\" viewBox=\"0 -960 960 960\">\n",
              "    <path d=\"M120-120v-720h720v720H120Zm60-500h600v-160H180v160Zm220 220h160v-160H400v160Zm0 220h160v-160H400v160ZM180-400h160v-160H180v160Zm440 0h160v-160H620v160ZM180-180h160v-160H180v160Zm440 0h160v-160H620v160Z\"/>\n",
              "  </svg>\n",
              "    </button>\n",
              "\n",
              "  <style>\n",
              "    .colab-df-container {\n",
              "      display:flex;\n",
              "      gap: 12px;\n",
              "    }\n",
              "\n",
              "    .colab-df-convert {\n",
              "      background-color: #E8F0FE;\n",
              "      border: none;\n",
              "      border-radius: 50%;\n",
              "      cursor: pointer;\n",
              "      display: none;\n",
              "      fill: #1967D2;\n",
              "      height: 32px;\n",
              "      padding: 0 0 0 0;\n",
              "      width: 32px;\n",
              "    }\n",
              "\n",
              "    .colab-df-convert:hover {\n",
              "      background-color: #E2EBFA;\n",
              "      box-shadow: 0px 1px 2px rgba(60, 64, 67, 0.3), 0px 1px 3px 1px rgba(60, 64, 67, 0.15);\n",
              "      fill: #174EA6;\n",
              "    }\n",
              "\n",
              "    .colab-df-buttons div {\n",
              "      margin-bottom: 4px;\n",
              "    }\n",
              "\n",
              "    [theme=dark] .colab-df-convert {\n",
              "      background-color: #3B4455;\n",
              "      fill: #D2E3FC;\n",
              "    }\n",
              "\n",
              "    [theme=dark] .colab-df-convert:hover {\n",
              "      background-color: #434B5C;\n",
              "      box-shadow: 0px 1px 3px 1px rgba(0, 0, 0, 0.15);\n",
              "      filter: drop-shadow(0px 1px 2px rgba(0, 0, 0, 0.3));\n",
              "      fill: #FFFFFF;\n",
              "    }\n",
              "  </style>\n",
              "\n",
              "    <script>\n",
              "      const buttonEl =\n",
              "        document.querySelector('#df-abdefeec-d21b-45c5-a1f5-d5107645ee6c button.colab-df-convert');\n",
              "      buttonEl.style.display =\n",
              "        google.colab.kernel.accessAllowed ? 'block' : 'none';\n",
              "\n",
              "      async function convertToInteractive(key) {\n",
              "        const element = document.querySelector('#df-abdefeec-d21b-45c5-a1f5-d5107645ee6c');\n",
              "        const dataTable =\n",
              "          await google.colab.kernel.invokeFunction('convertToInteractive',\n",
              "                                                    [key], {});\n",
              "        if (!dataTable) return;\n",
              "\n",
              "        const docLinkHtml = 'Like what you see? Visit the ' +\n",
              "          '<a target=\"_blank\" href=https://colab.research.google.com/notebooks/data_table.ipynb>data table notebook</a>'\n",
              "          + ' to learn more about interactive tables.';\n",
              "        element.innerHTML = '';\n",
              "        dataTable['output_type'] = 'display_data';\n",
              "        await google.colab.output.renderOutput(dataTable, element);\n",
              "        const docLink = document.createElement('div');\n",
              "        docLink.innerHTML = docLinkHtml;\n",
              "        element.appendChild(docLink);\n",
              "      }\n",
              "    </script>\n",
              "  </div>\n",
              "\n",
              "\n",
              "<div id=\"df-5033c043-3cb0-47eb-90bc-9202c894fc85\">\n",
              "  <button class=\"colab-df-quickchart\" onclick=\"quickchart('df-5033c043-3cb0-47eb-90bc-9202c894fc85')\"\n",
              "            title=\"Suggest charts\"\n",
              "            style=\"display:none;\">\n",
              "\n",
              "<svg xmlns=\"http://www.w3.org/2000/svg\" height=\"24px\"viewBox=\"0 0 24 24\"\n",
              "     width=\"24px\">\n",
              "    <g>\n",
              "        <path d=\"M19 3H5c-1.1 0-2 .9-2 2v14c0 1.1.9 2 2 2h14c1.1 0 2-.9 2-2V5c0-1.1-.9-2-2-2zM9 17H7v-7h2v7zm4 0h-2V7h2v10zm4 0h-2v-4h2v4z\"/>\n",
              "    </g>\n",
              "</svg>\n",
              "  </button>\n",
              "\n",
              "<style>\n",
              "  .colab-df-quickchart {\n",
              "      --bg-color: #E8F0FE;\n",
              "      --fill-color: #1967D2;\n",
              "      --hover-bg-color: #E2EBFA;\n",
              "      --hover-fill-color: #174EA6;\n",
              "      --disabled-fill-color: #AAA;\n",
              "      --disabled-bg-color: #DDD;\n",
              "  }\n",
              "\n",
              "  [theme=dark] .colab-df-quickchart {\n",
              "      --bg-color: #3B4455;\n",
              "      --fill-color: #D2E3FC;\n",
              "      --hover-bg-color: #434B5C;\n",
              "      --hover-fill-color: #FFFFFF;\n",
              "      --disabled-bg-color: #3B4455;\n",
              "      --disabled-fill-color: #666;\n",
              "  }\n",
              "\n",
              "  .colab-df-quickchart {\n",
              "    background-color: var(--bg-color);\n",
              "    border: none;\n",
              "    border-radius: 50%;\n",
              "    cursor: pointer;\n",
              "    display: none;\n",
              "    fill: var(--fill-color);\n",
              "    height: 32px;\n",
              "    padding: 0;\n",
              "    width: 32px;\n",
              "  }\n",
              "\n",
              "  .colab-df-quickchart:hover {\n",
              "    background-color: var(--hover-bg-color);\n",
              "    box-shadow: 0 1px 2px rgba(60, 64, 67, 0.3), 0 1px 3px 1px rgba(60, 64, 67, 0.15);\n",
              "    fill: var(--button-hover-fill-color);\n",
              "  }\n",
              "\n",
              "  .colab-df-quickchart-complete:disabled,\n",
              "  .colab-df-quickchart-complete:disabled:hover {\n",
              "    background-color: var(--disabled-bg-color);\n",
              "    fill: var(--disabled-fill-color);\n",
              "    box-shadow: none;\n",
              "  }\n",
              "\n",
              "  .colab-df-spinner {\n",
              "    border: 2px solid var(--fill-color);\n",
              "    border-color: transparent;\n",
              "    border-bottom-color: var(--fill-color);\n",
              "    animation:\n",
              "      spin 1s steps(1) infinite;\n",
              "  }\n",
              "\n",
              "  @keyframes spin {\n",
              "    0% {\n",
              "      border-color: transparent;\n",
              "      border-bottom-color: var(--fill-color);\n",
              "      border-left-color: var(--fill-color);\n",
              "    }\n",
              "    20% {\n",
              "      border-color: transparent;\n",
              "      border-left-color: var(--fill-color);\n",
              "      border-top-color: var(--fill-color);\n",
              "    }\n",
              "    30% {\n",
              "      border-color: transparent;\n",
              "      border-left-color: var(--fill-color);\n",
              "      border-top-color: var(--fill-color);\n",
              "      border-right-color: var(--fill-color);\n",
              "    }\n",
              "    40% {\n",
              "      border-color: transparent;\n",
              "      border-right-color: var(--fill-color);\n",
              "      border-top-color: var(--fill-color);\n",
              "    }\n",
              "    60% {\n",
              "      border-color: transparent;\n",
              "      border-right-color: var(--fill-color);\n",
              "    }\n",
              "    80% {\n",
              "      border-color: transparent;\n",
              "      border-right-color: var(--fill-color);\n",
              "      border-bottom-color: var(--fill-color);\n",
              "    }\n",
              "    90% {\n",
              "      border-color: transparent;\n",
              "      border-bottom-color: var(--fill-color);\n",
              "    }\n",
              "  }\n",
              "</style>\n",
              "\n",
              "  <script>\n",
              "    async function quickchart(key) {\n",
              "      const quickchartButtonEl =\n",
              "        document.querySelector('#' + key + ' button');\n",
              "      quickchartButtonEl.disabled = true;  // To prevent multiple clicks.\n",
              "      quickchartButtonEl.classList.add('colab-df-spinner');\n",
              "      try {\n",
              "        const charts = await google.colab.kernel.invokeFunction(\n",
              "            'suggestCharts', [key], {});\n",
              "      } catch (error) {\n",
              "        console.error('Error during call to suggestCharts:', error);\n",
              "      }\n",
              "      quickchartButtonEl.classList.remove('colab-df-spinner');\n",
              "      quickchartButtonEl.classList.add('colab-df-quickchart-complete');\n",
              "    }\n",
              "    (() => {\n",
              "      let quickchartButtonEl =\n",
              "        document.querySelector('#df-5033c043-3cb0-47eb-90bc-9202c894fc85 button');\n",
              "      quickchartButtonEl.style.display =\n",
              "        google.colab.kernel.accessAllowed ? 'block' : 'none';\n",
              "    })();\n",
              "  </script>\n",
              "</div>\n",
              "\n",
              "  <div id=\"id_01da284c-da06-4ca9-92fb-05fad1ed6aa4\">\n",
              "    <style>\n",
              "      .colab-df-generate {\n",
              "        background-color: #E8F0FE;\n",
              "        border: none;\n",
              "        border-radius: 50%;\n",
              "        cursor: pointer;\n",
              "        display: none;\n",
              "        fill: #1967D2;\n",
              "        height: 32px;\n",
              "        padding: 0 0 0 0;\n",
              "        width: 32px;\n",
              "      }\n",
              "\n",
              "      .colab-df-generate:hover {\n",
              "        background-color: #E2EBFA;\n",
              "        box-shadow: 0px 1px 2px rgba(60, 64, 67, 0.3), 0px 1px 3px 1px rgba(60, 64, 67, 0.15);\n",
              "        fill: #174EA6;\n",
              "      }\n",
              "\n",
              "      [theme=dark] .colab-df-generate {\n",
              "        background-color: #3B4455;\n",
              "        fill: #D2E3FC;\n",
              "      }\n",
              "\n",
              "      [theme=dark] .colab-df-generate:hover {\n",
              "        background-color: #434B5C;\n",
              "        box-shadow: 0px 1px 3px 1px rgba(0, 0, 0, 0.15);\n",
              "        filter: drop-shadow(0px 1px 2px rgba(0, 0, 0, 0.3));\n",
              "        fill: #FFFFFF;\n",
              "      }\n",
              "    </style>\n",
              "    <button class=\"colab-df-generate\" onclick=\"generateWithVariable('desc')\"\n",
              "            title=\"Generate code using this dataframe.\"\n",
              "            style=\"display:none;\">\n",
              "\n",
              "  <svg xmlns=\"http://www.w3.org/2000/svg\" height=\"24px\"viewBox=\"0 0 24 24\"\n",
              "       width=\"24px\">\n",
              "    <path d=\"M7,19H8.4L18.45,9,17,7.55,7,17.6ZM5,21V16.75L18.45,3.32a2,2,0,0,1,2.83,0l1.4,1.43a1.91,1.91,0,0,1,.58,1.4,1.91,1.91,0,0,1-.58,1.4L9.25,21ZM18.45,9,17,7.55Zm-12,3A5.31,5.31,0,0,0,4.9,8.1,5.31,5.31,0,0,0,1,6.5,5.31,5.31,0,0,0,4.9,4.9,5.31,5.31,0,0,0,6.5,1,5.31,5.31,0,0,0,8.1,4.9,5.31,5.31,0,0,0,12,6.5,5.46,5.46,0,0,0,6.5,12Z\"/>\n",
              "  </svg>\n",
              "    </button>\n",
              "    <script>\n",
              "      (() => {\n",
              "      const buttonEl =\n",
              "        document.querySelector('#id_01da284c-da06-4ca9-92fb-05fad1ed6aa4 button.colab-df-generate');\n",
              "      buttonEl.style.display =\n",
              "        google.colab.kernel.accessAllowed ? 'block' : 'none';\n",
              "\n",
              "      buttonEl.onclick = () => {\n",
              "        google.colab.notebook.generateWithVariable('desc');\n",
              "      }\n",
              "      })();\n",
              "    </script>\n",
              "  </div>\n",
              "\n",
              "    </div>\n",
              "  </div>\n"
            ],
            "application/vnd.google.colaboratory.intrinsic+json": {
              "type": "dataframe",
              "variable_name": "desc",
              "summary": "{\n  \"name\": \"desc\",\n  \"rows\": 7,\n  \"fields\": [\n    {\n      \"column\": \"energy\",\n      \"properties\": {\n        \"dtype\": \"number\",\n        \"std\": 0.2555222476568705,\n        \"min\": 0.154,\n        \"max\": 0.855,\n        \"num_unique_values\": 7,\n        \"samples\": [\n          0.609,\n          0.154,\n          0.73\n        ],\n        \"semantic_type\": \"\",\n        \"description\": \"\"\n      }\n    },\n    {\n      \"column\": \"danceability\",\n      \"properties\": {\n        \"dtype\": \"number\",\n        \"std\": 0.28136004725347236,\n        \"min\": 0.125,\n        \"max\": 0.935,\n        \"num_unique_values\": 7,\n        \"samples\": [\n          0.717,\n          0.125,\n          0.794\n        ],\n        \"semantic_type\": \"\",\n        \"description\": \"\"\n      }\n    },\n    {\n      \"column\": \"key\",\n      \"properties\": {\n        \"dtype\": \"number\",\n        \"std\": 3.818208337003352,\n        \"min\": 0.0,\n        \"max\": 11.0,\n        \"num_unique_values\": 7,\n        \"samples\": [\n          5.72,\n          3.709,\n          8.75\n        ],\n        \"semantic_type\": \"\",\n        \"description\": \"\"\n      }\n    },\n    {\n      \"column\": \"loudness\",\n      \"properties\": {\n        \"dtype\": \"number\",\n        \"std\": 5.050617576570405,\n        \"min\": -14.454,\n        \"max\": 2.35,\n        \"num_unique_values\": 7,\n        \"samples\": [\n          -6.226,\n          2.35,\n          -4.286\n        ],\n        \"semantic_type\": \"\",\n        \"description\": \"\"\n      }\n    },\n    {\n      \"column\": \"acousticness\",\n      \"properties\": {\n        \"dtype\": \"number\",\n        \"std\": 0.30728023505774477,\n        \"min\": 0.001,\n        \"max\": 0.934,\n        \"num_unique_values\": 7,\n        \"samples\": [\n          0.256,\n          0.265,\n          0.299\n        ],\n        \"semantic_type\": \"\",\n        \"description\": \"\"\n      }\n    },\n    {\n      \"column\": \"speechiness\",\n      \"properties\": {\n        \"dtype\": \"number\",\n        \"std\": 0.15639875775904177,\n        \"min\": 0.029,\n        \"max\": 0.487,\n        \"num_unique_values\": 7,\n        \"samples\": [\n          0.124,\n          0.117,\n          0.156\n        ],\n        \"semantic_type\": \"\",\n        \"description\": \"\"\n      }\n    },\n    {\n      \"column\": \"instrumentalness\",\n      \"properties\": {\n        \"dtype\": \"number\",\n        \"std\": 0.24382360915414322,\n        \"min\": 0.0,\n        \"max\": 0.657,\n        \"num_unique_values\": 4,\n        \"samples\": [\n          0.094,\n          0.657,\n          0.016\n        ],\n        \"semantic_type\": \"\",\n        \"description\": \"\"\n      }\n    },\n    {\n      \"column\": \"liveness\",\n      \"properties\": {\n        \"dtype\": \"number\",\n        \"std\": 0.25261216273549614,\n        \"min\": 0.057,\n        \"max\": 0.792,\n        \"num_unique_values\": 7,\n        \"samples\": [\n          0.197,\n          0.177,\n          0.271\n        ],\n        \"semantic_type\": \"\",\n        \"description\": \"\"\n      }\n    },\n    {\n      \"column\": \"valence\",\n      \"properties\": {\n        \"dtype\": \"number\",\n        \"std\": 0.2935340492945207,\n        \"min\": 0.06,\n        \"max\": 0.925,\n        \"num_unique_values\": 7,\n        \"samples\": [\n          0.556,\n          0.216,\n          0.726\n        ],\n        \"semantic_type\": \"\",\n        \"description\": \"\"\n      }\n    },\n    {\n      \"column\": \"tempo\",\n      \"properties\": {\n        \"dtype\": \"number\",\n        \"std\": 48.17493641530882,\n        \"min\": 25.415,\n        \"max\": 180.067,\n        \"num_unique_values\": 7,\n        \"samples\": [\n          119.69,\n          25.415,\n          132.317\n        ],\n        \"semantic_type\": \"\",\n        \"description\": \"\"\n      }\n    },\n    {\n      \"column\": \"duration_ms\",\n      \"properties\": {\n        \"dtype\": \"number\",\n        \"std\": 84106.42152254927,\n        \"min\": 33996.122,\n        \"max\": 312820.0,\n        \"num_unique_values\": 7,\n        \"samples\": [\n          199955.36,\n          33996.122,\n          215064.0\n        ],\n        \"semantic_type\": \"\",\n        \"description\": \"\"\n      }\n    }\n  ]\n}"
            }
          },
          "metadata": {},
          "execution_count": 46
        }
      ]
    },
    {
      "cell_type": "code",
      "source": [
        "numeric_cols = df.select_dtypes(include=['float64', 'int64']).columns\n",
        "\n",
        "outlier_summary = {}\n",
        "\n",
        "for col in numeric_cols:\n",
        "    Q1 = df[col].quantile(0.25)\n",
        "    Q3 = df[col].quantile(0.75)\n",
        "    IQR = Q3 - Q1\n",
        "    lower_bound = Q1 - 1.5 * IQR\n",
        "    upper_bound = Q3 + 1.5 * IQR\n",
        "\n",
        "    outliers = df[(df[col] < lower_bound) | (df[col] > upper_bound)]\n",
        "\n",
        "    if not outliers.empty:\n",
        "        outlier_summary[col] = {\n",
        "            'count': outliers.shape[0],\n",
        "            'lower_bound': lower_bound,\n",
        "            'upper_bound': upper_bound,\n",
        "            'outlier_values': outliers[col].values\n",
        "        }\n",
        "\n",
        "for col, info in outlier_summary.items():\n",
        "    print(f\"\\nColumn: {col}\")\n",
        "    print(f\"Outlier(s): {info['count']}\")\n",
        "    print(f\"Limits: [{info['lower_bound']:.2f}, {info['upper_bound']:.2f}]\")\n",
        "    print(f\"Values: {info['outlier_values']}\")\n"
      ],
      "metadata": {
        "colab": {
          "base_uri": "https://localhost:8080/"
        },
        "id": "KD5wC1HysupP",
        "outputId": "09d00353-be48-4515-cb16-091e52cd3b14"
      },
      "id": "KD5wC1HysupP",
      "execution_count": null,
      "outputs": [
        {
          "output_type": "stream",
          "name": "stdout",
          "text": [
            "\n",
            "Column: danceability\n",
            "Outlier(s): 3\n",
            "Limits: [0.49, 0.98]\n",
            "Values: [0.459 0.351 0.464]\n",
            "\n",
            "Column: loudness\n",
            "Outlier(s): 1\n",
            "Limits: [-12.45, 0.62]\n",
            "Values: [-14.454]\n",
            "\n",
            "Column: acousticness\n",
            "Outlier(s): 7\n",
            "Limits: [-0.32, 0.67]\n",
            "Values: [0.688 0.731 0.751 0.837 0.902 0.934 0.866]\n",
            "\n",
            "Column: speechiness\n",
            "Outlier(s): 6\n",
            "Limits: [-0.11, 0.32]\n",
            "Values: [0.487 0.375 0.375 0.342 0.389 0.379]\n",
            "\n",
            "Column: instrumentalness\n",
            "Outlier(s): 12\n",
            "Limits: [-0.00, 0.00]\n",
            "Values: [9.54e-05 1.61e-04 4.32e-03 1.34e-04 2.44e-03 6.57e-01 1.30e-01 2.09e-04\n",
            " 1.88e-03 6.43e-05 1.09e-03 6.58e-04]\n",
            "\n",
            "Column: liveness\n",
            "Outlier(s): 3\n",
            "Limits: [-0.17, 0.54]\n",
            "Values: [0.79  0.696 0.792]\n",
            "\n",
            "Column: duration_ms\n",
            "Outlier(s): 2\n",
            "Limits: [117017.75, 273891.75]\n",
            "Values: [295177 312820]\n"
          ]
        }
      ]
    },
    {
      "cell_type": "markdown",
      "id": "7d6d71a9-611b-4ccd-addd-b211f254dd20",
      "metadata": {
        "id": "7d6d71a9-611b-4ccd-addd-b211f254dd20"
      },
      "source": [
        "**Danceability**: 3 songs have lower danceability levels - they might be slower or less suitable for dancing.\n",
        "\n",
        "**Loudness**: One track is significantly quieter than the others - it could be a calm or acoustic-style song.\n",
        "\n",
        "**Acousticness**: 7 songs show high acoustic values, indicating a more natural, less electronic sound.\n",
        "\n",
        "**Speechiness**: 6 songs contain a lot of spoken elements - these are likely rap tracks.\n",
        "\n",
        "**Instrumentalness**: As many as 12 songs have higher instrumental values - some of them might be mostly or entirely without vocals.\n",
        "\n",
        "**Liveness**: 3 songs appear to be live performances, based on their high liveness scores.\n",
        "\n",
        "**Duration**: 2 songs are much longer than average - both exceed 5 minutes.\n",
        "\n",
        "These outliers highlight that even the most popular songs can vary greatly in style - from live performances to instrumental or acoustic pieces."
      ]
    },
    {
      "cell_type": "markdown",
      "source": [
        "## Dataset Structure"
      ],
      "metadata": {
        "id": "wW_VdlifkEh0"
      },
      "id": "wW_VdlifkEh0"
    },
    {
      "cell_type": "code",
      "execution_count": null,
      "id": "825cfa61-a047-4bbe-b93c-0250f94ba4ec",
      "metadata": {
        "colab": {
          "base_uri": "https://localhost:8080/"
        },
        "id": "825cfa61-a047-4bbe-b93c-0250f94ba4ec",
        "outputId": "30a40baf-cceb-47ab-eb69-9135b2b109f4"
      },
      "outputs": [
        {
          "output_type": "stream",
          "name": "stdout",
          "text": [
            "Number of observations: 50 (each row represents one song)\n",
            "Number of features: 17\n"
          ]
        }
      ],
      "source": [
        "df.shape\n",
        "\n",
        "print(f'Number of observations: {df.shape[0]} (each row represents one song)')\n",
        "print(f'Number of features: {df.shape[1]}')"
      ]
    },
    {
      "cell_type": "markdown",
      "source": [
        "## Data Types"
      ],
      "metadata": {
        "id": "ftcEON0mdXda"
      },
      "id": "ftcEON0mdXda"
    },
    {
      "cell_type": "code",
      "source": [
        "print('In total, the dataset contains:')\n",
        "for dtype in ['object', 'int64', 'float64']:\n",
        "    columns = df.select_dtypes(include=dtype).columns\n",
        "    print(f\"{len(columns)} {dtype} columns: {', '.join(columns)}.\")\n"
      ],
      "metadata": {
        "colab": {
          "base_uri": "https://localhost:8080/"
        },
        "id": "wr0VXszr4GiC",
        "outputId": "3e8c2c52-f56d-47f0-df2c-044404ed426a"
      },
      "id": "wr0VXszr4GiC",
      "execution_count": null,
      "outputs": [
        {
          "output_type": "stream",
          "name": "stdout",
          "text": [
            "In total, the dataset contains:\n",
            "5 object columns: artist, album, track_name, track_id, genre.\n",
            "3 int64 columns: Unnamed: 0, key, duration_ms.\n",
            "9 float64 columns: energy, danceability, loudness, acousticness, speechiness, instrumentalness, liveness, valence, tempo.\n"
          ]
        }
      ]
    },
    {
      "cell_type": "markdown",
      "source": [
        "## Artists"
      ],
      "metadata": {
        "id": "Cdkbw-TX92nm"
      },
      "id": "Cdkbw-TX92nm"
    },
    {
      "cell_type": "markdown",
      "source": [
        "**How many unique artists are there in total?**"
      ],
      "metadata": {
        "id": "e3FsiK4Ek2rY"
      },
      "id": "e3FsiK4Ek2rY"
    },
    {
      "cell_type": "code",
      "execution_count": null,
      "id": "8e9a03ff-5ca7-4306-a37f-b7326b68ff59",
      "metadata": {
        "colab": {
          "base_uri": "https://localhost:8080/",
          "height": 35
        },
        "id": "8e9a03ff-5ca7-4306-a37f-b7326b68ff59",
        "outputId": "fdfbb487-55c6-4351-d6eb-4258b372f51f"
      },
      "outputs": [
        {
          "output_type": "execute_result",
          "data": {
            "text/plain": [
              "'Here is 40 unique artist.'"
            ],
            "application/vnd.google.colaboratory.intrinsic+json": {
              "type": "string"
            }
          },
          "metadata": {},
          "execution_count": 50
        }
      ],
      "source": [
        "f'Here is {df[\"artist\"].nunique()} unique artist.'"
      ]
    },
    {
      "cell_type": "markdown",
      "source": [
        "**Are there any artists with more than one popular song?**"
      ],
      "metadata": {
        "id": "X8uUU_vvdpoY"
      },
      "id": "X8uUU_vvdpoY"
    },
    {
      "cell_type": "code",
      "execution_count": null,
      "id": "ec32210f-9f23-4d6c-be8d-178348802ead",
      "metadata": {
        "colab": {
          "base_uri": "https://localhost:8080/"
        },
        "id": "ec32210f-9f23-4d6c-be8d-178348802ead",
        "outputId": "d415205f-4a2d-4ae0-f730-2c821aee3fbd"
      },
      "outputs": [
        {
          "output_type": "stream",
          "name": "stdout",
          "text": [
            "Yes - 7 artists have more than one song featured in the Top 50 list:\n",
            "Dua Lipa         3\n",
            "Billie Eilish    3\n",
            "Travis Scott     3\n",
            "Harry Styles     2\n",
            "Lewis Capaldi    2\n",
            "Justin Bieber    2\n",
            "Post Malone      2\n"
          ]
        }
      ],
      "source": [
        "popular_artist = df['artist'].value_counts()\n",
        "multiply_song = popular_artist[popular_artist > 1]\n",
        "\n",
        "print(f'Yes - {len(multiply_song)} artists have more than one song featured in the Top 50 list:')\n",
        "print(multiply_song.to_string(header=False))"
      ]
    },
    {
      "cell_type": "markdown",
      "id": "26ce9a9c-4605-43bd-bea9-c7c91c4161ba",
      "metadata": {
        "id": "26ce9a9c-4605-43bd-bea9-c7c91c4161ba"
      },
      "source": [
        "**Who was the most popular artist?**"
      ]
    },
    {
      "cell_type": "code",
      "execution_count": null,
      "id": "de100ded-4668-45d1-b7b5-3eeaf80dbf21",
      "metadata": {
        "colab": {
          "base_uri": "https://localhost:8080/"
        },
        "id": "de100ded-4668-45d1-b7b5-3eeaf80dbf21",
        "outputId": "4ebf709c-34c6-41c1-f892-f4acf528160b"
      },
      "outputs": [
        {
          "output_type": "stream",
          "name": "stdout",
          "text": [
            "The most popular artist(s): Dua Lipa, Billie Eilish, Travis Scott with 3 songs.\n"
          ]
        }
      ],
      "source": [
        "popular_artist = df['artist'].value_counts()\n",
        "max_count = popular_artist.max()\n",
        "most_popular_artist = popular_artist[\n",
        "    popular_artist == max_count].index.to_list()\n",
        "\n",
        "print(f'The most popular artist(s): {\", \".join(most_popular_artist)} with {max_count} songs.')\n"
      ]
    },
    {
      "cell_type": "markdown",
      "source": [
        "## Albums"
      ],
      "metadata": {
        "id": "xo-NiwiHlImi"
      },
      "id": "xo-NiwiHlImi"
    },
    {
      "cell_type": "markdown",
      "source": [
        "**How many unique albums are there in total?**"
      ],
      "metadata": {
        "id": "PBei5eEIl3zF"
      },
      "id": "PBei5eEIl3zF"
    },
    {
      "cell_type": "code",
      "execution_count": null,
      "id": "73886888-2d9f-445e-9741-de639e624a3d",
      "metadata": {
        "colab": {
          "base_uri": "https://localhost:8080/"
        },
        "id": "73886888-2d9f-445e-9741-de639e624a3d",
        "outputId": "e9a86727-d1e0-40ca-f085-2801d4325fb6"
      },
      "outputs": [
        {
          "output_type": "stream",
          "name": "stdout",
          "text": [
            "There are 45 unique albums represented in the dataset.\n"
          ]
        }
      ],
      "source": [
        "print(f'There are {df[\"album\"].nunique()} unique albums represented in the dataset.')"
      ]
    },
    {
      "cell_type": "markdown",
      "source": [
        "**Are there any albums with more than one Top 50 song?**"
      ],
      "metadata": {
        "id": "YAQWOp4hlZQI"
      },
      "id": "YAQWOp4hlZQI"
    },
    {
      "cell_type": "code",
      "execution_count": null,
      "id": "4ac900a6-aeae-40df-b4d2-303daa44c557",
      "metadata": {
        "colab": {
          "base_uri": "https://localhost:8080/"
        },
        "id": "4ac900a6-aeae-40df-b4d2-303daa44c557",
        "outputId": "ac0ebe84-4e78-4627-9ca7-f43af8f2d5d6"
      },
      "outputs": [
        {
          "output_type": "stream",
          "name": "stdout",
          "text": [
            "Yes - 4 albums have more than one song featured in the Top 50 list:\n",
            "Future Nostalgia        3\n",
            "Hollywood's Bleeding    2\n",
            "Fine Line               2\n",
            "Changes                 2\n"
          ]
        }
      ],
      "source": [
        "popular_album = df['album'].value_counts()\n",
        "multiply_song = popular_album[popular_album > 1]\n",
        "\n",
        "print(f'Yes - {len(multiply_song)} albums have more than one song featured in the Top 50 list:')\n",
        "print(multiply_song.to_string(header=False))\n"
      ]
    },
    {
      "cell_type": "markdown",
      "source": [
        "From the initial data exploration, we can see that the dataset is well-structured and contains a mix of categorical and numerical features. The data includes a wide variety of artists (40 unique ones), but a few stand out with multiple tracks, such as Dua Lipa, Billie Eilish, and Travis Scott - each having 3 songs in the Top 50. Similarly, while most albums only feature one track, 4 albums stand out with multiple popular songs.\n",
        "\n",
        "This suggests that popularity might be influenced by certain artists or albums, and it's worth exploring whether these tracks share common audio characteristics. In the next section, we will analyze the audio features across genres to identify patterns and key differences."
      ],
      "metadata": {
        "id": "bdQsvfoqo08v"
      },
      "id": "bdQsvfoqo08v"
    },
    {
      "cell_type": "markdown",
      "source": [
        "## Danceability and Loudness Analysis"
      ],
      "metadata": {
        "id": "rAJ7xL1EpFZT"
      },
      "id": "rAJ7xL1EpFZT"
    },
    {
      "cell_type": "markdown",
      "source": [
        "**Which tracks have a danceability score above 0.7?**"
      ],
      "metadata": {
        "id": "E7b_g2ylxiI-"
      },
      "id": "E7b_g2ylxiI-"
    },
    {
      "cell_type": "code",
      "execution_count": null,
      "id": "37be69a4-dc00-4e4d-823b-9c55f7f60a5a",
      "metadata": {
        "colab": {
          "base_uri": "https://localhost:8080/"
        },
        "id": "37be69a4-dc00-4e4d-823b-9c55f7f60a5a",
        "outputId": "aac4820b-0748-44fc-b957-1f585617710f"
      },
      "outputs": [
        {
          "output_type": "stream",
          "name": "stdout",
          "text": [
            "There are 32 tracks with a danceability score higher than 0.7. List of songs:\n",
            "         artist                                    track_name\n",
            "    Tones And I                                  Dance Monkey\n",
            "    Roddy Ricch                                       The Box\n",
            "      SAINt JHN                         Roses - Imanbek Remix\n",
            "       Dua Lipa                               Don't Start Now\n",
            "         DaBaby                  ROCKSTAR (feat. Roddy Ricch)\n",
            "          Powfu              death bed (coffee for your head)\n",
            "  Trevor Daniel                                       Falling\n",
            "        KAROL G                                          Tusa\n",
            "      Lil Mosey                               Blueberry Faygo\n",
            "  Justin Bieber                      Intentions (feat. Quavo)\n",
            "          Drake                                  Toosie Slide\n",
            "       Doja Cat                                        Say So\n",
            "       Maroon 5                                      Memories\n",
            "         Future                    Life Is Good (feat. Drake)\n",
            "      Jawsh 685              Savage Love (Laxed - Siren Beat)\n",
            "          Topic                                   Breaking Me\n",
            "  Billie Eilish                           everything i wanted\n",
            "   Shawn Mendes                                      Señorita\n",
            "  Billie Eilish                                       bad guy\n",
            "        Cardi B               WAP (feat. Megan Thee Stallion)\n",
            "       Surfaces                                   Sunday Best\n",
            "         Eminem                   Godzilla (feat. Juice WRLD)\n",
            "       Dua Lipa                                Break My Heart\n",
            "            BTS                                      Dynamite\n",
            "          BENEE              Supalonely (feat. Gus Dapperton)\n",
            "    Post Malone Sunflower - Spider-Man: Into the Spider-Verse\n",
            "         Maluma                                         Hawái\n",
            "         Regard                                       Ride It\n",
            "   Travis Scott                                    goosebumps\n",
            "Black Eyed Peas                     RITMO (Bad Boys For Life)\n",
            "     THE SCOTTS                                    THE SCOTTS\n",
            "   Travis Scott                                    SICKO MODE\n"
          ]
        }
      ],
      "source": [
        "danceability = df[df['danceability'] > 0.7]\n",
        "\n",
        "print(f'There are {len(danceability)} tracks with a danceability score higher than 0.7. List of songs:')\n",
        "print(danceability[['artist', 'track_name']].to_string(index=False))\n"
      ]
    },
    {
      "cell_type": "markdown",
      "source": [
        "**Which tracks have a danceability score below 0.4?**"
      ],
      "metadata": {
        "id": "bE-t8mmO2cOJ"
      },
      "id": "bE-t8mmO2cOJ"
    },
    {
      "cell_type": "code",
      "execution_count": null,
      "id": "9c60e19f-791c-445e-82ae-f0d342857f22",
      "metadata": {
        "colab": {
          "base_uri": "https://localhost:8080/"
        },
        "id": "9c60e19f-791c-445e-82ae-f0d342857f22",
        "outputId": "6c9e6383-22f7-4e67-84f9-78ffcc8332c5"
      },
      "outputs": [
        {
          "output_type": "stream",
          "name": "stdout",
          "text": [
            "There are 1 track(s) with a danceability score lower than 0.4.\n",
            "Billie Eilish lovely (with Khalid)\n"
          ]
        }
      ],
      "source": [
        "dance = df[df['danceability'] < 0.4]\n",
        "\n",
        "print(f'There are {len(dance)} track(s) with a danceability score lower than 0.4.')\n",
        "print(dance[['artist', 'track_name']].to_string(index=False, header=False))\n"
      ]
    },
    {
      "cell_type": "markdown",
      "source": [
        "**Which tracks have a loudness above -5?**"
      ],
      "metadata": {
        "id": "i92320203fyW"
      },
      "id": "i92320203fyW"
    },
    {
      "cell_type": "code",
      "execution_count": null,
      "id": "c883b7ff-b6e4-46f8-a0c9-16cf77655318",
      "metadata": {
        "colab": {
          "base_uri": "https://localhost:8080/"
        },
        "id": "c883b7ff-b6e4-46f8-a0c9-16cf77655318",
        "outputId": "6b931bdf-4437-4e7c-db27-9aa636411764"
      },
      "outputs": [
        {
          "output_type": "stream",
          "name": "stdout",
          "text": [
            "There are 31 track(s) with a loudness score lower than -5. List of songs: \n",
            "         artist                                     track_name\n",
            "     The Weeknd                                Blinding Lights\n",
            "    Tones And I                                   Dance Monkey\n",
            "    Roddy Ricch                                        The Box\n",
            "      SAINt JHN                          Roses - Imanbek Remix\n",
            "         DaBaby                   ROCKSTAR (feat. Roddy Ricch)\n",
            "          Powfu               death bed (coffee for your head)\n",
            "  Trevor Daniel                                        Falling\n",
            "  Lewis Capaldi                              Someone You Loved\n",
            " Arizona Zervas                                        ROXANNE\n",
            "      Lil Mosey                                Blueberry Faygo\n",
            "  Justin Bieber                       Intentions (feat. Quavo)\n",
            "          Drake                                   Toosie Slide\n",
            "       Maroon 5                                       Memories\n",
            "         Future                     Life Is Good (feat. Drake)\n",
            "      Jawsh 685               Savage Love (Laxed - Siren Beat)\n",
            "          Topic                                    Breaking Me\n",
            "  Billie Eilish                            everything i wanted\n",
            "   Shawn Mendes                                       Señorita\n",
            "  Billie Eilish                                        bad guy\n",
            "        Cardi B                WAP (feat. Megan Thee Stallion)\n",
            "       Surfaces                                    Sunday Best\n",
            "         Eminem                    Godzilla (feat. Juice WRLD)\n",
            "  Justin Bieber                                          Yummy\n",
            "      Surf Mesa           ily (i love you baby) (feat. Emilee)\n",
            "   Travis Scott                            HIGHEST IN THE ROOM\n",
            "Black Eyed Peas                      RITMO (Bad Boys For Life)\n",
            "     THE SCOTTS                                     THE SCOTTS\n",
            "  Billie Eilish                           lovely (with Khalid)\n",
            "     Juice WRLD                                   Lucid Dreams\n",
            "  Ariana Grande              Stuck with U (with Justin Bieber)\n",
            "        JP Saxe If the World Was Ending - feat. Julia Michaels\n"
          ]
        }
      ],
      "source": [
        "loudness_5 = df[df['loudness'] < -5]\n",
        "\n",
        "print(f'There are {len(loudness_5)} track(s) with a loudness score lower than -5. List of songs: ')\n",
        "print(loudness_5[['artist', 'track_name']].to_string(index=False))"
      ]
    },
    {
      "cell_type": "markdown",
      "source": [
        "**Which tracks have loudness below -8?**"
      ],
      "metadata": {
        "id": "eNXMQY2q6eaU"
      },
      "id": "eNXMQY2q6eaU"
    },
    {
      "cell_type": "code",
      "execution_count": null,
      "id": "07b52a2f-54f4-4316-971f-9f5334b4e614",
      "metadata": {
        "colab": {
          "base_uri": "https://localhost:8080/"
        },
        "id": "07b52a2f-54f4-4316-971f-9f5334b4e614",
        "outputId": "497866a3-860a-4598-d4c4-a6303c4302ca"
      },
      "outputs": [
        {
          "output_type": "stream",
          "name": "stdout",
          "text": [
            "There are 9 track(s) with loudness below -8. List of songs: \n",
            "       artist                                     track_name\n",
            "        Powfu               death bed (coffee for your head)\n",
            "Trevor Daniel                                        Falling\n",
            "        Drake                                   Toosie Slide\n",
            "    Jawsh 685               Savage Love (Laxed - Siren Beat)\n",
            "Billie Eilish                            everything i wanted\n",
            "Billie Eilish                                        bad guy\n",
            " Travis Scott                            HIGHEST IN THE ROOM\n",
            "Billie Eilish                           lovely (with Khalid)\n",
            "      JP Saxe If the World Was Ending - feat. Julia Michaels\n"
          ]
        }
      ],
      "source": [
        "loundness_8 = df[df['loudness'] < -8]\n",
        "\n",
        "print(f'There are {len(loundness_8)} track(s) with loudness below -8. List of songs: ')\n",
        "print(loundness_8[['artist', 'track_name']].to_string(index=False))"
      ]
    },
    {
      "cell_type": "markdown",
      "source": [
        "Analyzing the top 50 songs, it is noticeable that the majority of songs have a high danceability score (above 0.7), and many also have a low loudness score (below -5). This suggests that popular songs are energetic but not overly loud. On the other hand, only one song has a very low danceability score (below 0.4), which indicates that less popular songs tend to be slower and less danceable, with lower danceability scores."
      ],
      "metadata": {
        "id": "Qvs3FZNK8YiI"
      },
      "id": "Qvs3FZNK8YiI"
    },
    {
      "cell_type": "markdown",
      "source": [
        "# Track Length"
      ],
      "metadata": {
        "id": "bAxYUZC--OSj"
      },
      "id": "bAxYUZC--OSj"
    },
    {
      "cell_type": "code",
      "execution_count": null,
      "id": "b1d72d21-70b9-46cf-b0e5-eb00118522a7",
      "metadata": {
        "colab": {
          "base_uri": "https://localhost:8080/"
        },
        "id": "b1d72d21-70b9-46cf-b0e5-eb00118522a7",
        "outputId": "3509fc70-023b-4b89-ad91-e5fb0ee8cfe5"
      },
      "outputs": [
        {
          "output_type": "stream",
          "name": "stdout",
          "text": [
            "The shortest track is Mood (feat. iann dior) by 24kGoldn with 140526 milliseconds.\n",
            "The longest track is SICKO MODE by Travis Scott with 312820 milliseconds.\n"
          ]
        }
      ],
      "source": [
        "shortest = df.duration_ms.idxmin()\n",
        "longest = df.duration_ms.idxmax()\n",
        "shortest_row = df.loc[shortest]\n",
        "longest_row = df.loc[longest]\n",
        "\n",
        "print(f'The shortest track is {shortest_row[\"track_name\"]} by {shortest_row[\"artist\"]} with {shortest_row[\"duration_ms\"]} milliseconds.')\n",
        "print(f'The longest track is {longest_row[\"track_name\"]} by {longest_row[\"artist\"]} with {longest_row[\"duration_ms\"]} milliseconds.')"
      ]
    },
    {
      "cell_type": "code",
      "source": [
        "df['duration_category'] = pd.cut(df['duration_ms'],\n",
        "                                 bins=[0, 180000, 240000, float('inf')],\n",
        "                                 labels=['Short', 'Medium', 'Long'])\n",
        "\n",
        "duration_counts = df['duration_category'].value_counts()\n",
        "print(f'The songs are categorized by duration into the following categories: { \", \".join(duration_counts.index)}.')\n",
        "print(f'Number of songs in each category: \\n{duration_counts}')"
      ],
      "metadata": {
        "colab": {
          "base_uri": "https://localhost:8080/"
        },
        "id": "Ifq8IskGGG30",
        "outputId": "a99e9adb-82a8-4422-f76c-03a1b6a0e917"
      },
      "id": "Ifq8IskGGG30",
      "execution_count": null,
      "outputs": [
        {
          "output_type": "stream",
          "name": "stdout",
          "text": [
            "The songs are categorized by duration into the following categories: Medium, Short, Long.\n",
            "Number of songs in each category: \n",
            "duration_category\n",
            "Medium    30\n",
            "Short     15\n",
            "Long       5\n",
            "Name: count, dtype: int64\n"
          ]
        }
      ]
    },
    {
      "cell_type": "markdown",
      "source": [
        "Most of the songs fall into the Medium category, with 30 songs being of average length, while there are fewer songs in the Short and Long categories, with 15 and 5 songs respectively."
      ],
      "metadata": {
        "id": "WY3VtzwaHVig"
      },
      "id": "WY3VtzwaHVig"
    },
    {
      "cell_type": "markdown",
      "id": "353ebda5-551a-4672-833f-36e7620e5061",
      "metadata": {
        "id": "353ebda5-551a-4672-833f-36e7620e5061"
      },
      "source": [
        "# Genre Analysis\n",
        "**Which genre is the most popular?**"
      ]
    },
    {
      "cell_type": "code",
      "source": [
        "df['genre'].value_counts().plot(kind='bar')"
      ],
      "metadata": {
        "colab": {
          "base_uri": "https://localhost:8080/",
          "height": 702
        },
        "id": "ULKpY5MZO7yI",
        "outputId": "cc413b86-e748-4c81-88eb-d93d912d9ba2"
      },
      "id": "ULKpY5MZO7yI",
      "execution_count": null,
      "outputs": [
        {
          "output_type": "execute_result",
          "data": {
            "text/plain": [
              "<Axes: xlabel='genre'>"
            ]
          },
          "metadata": {},
          "execution_count": 61
        },
        {
          "output_type": "display_data",
          "data": {
            "text/plain": [
              "<Figure size 640x480 with 1 Axes>"
            ],
            "image/png": "[encoded data removed]"
          },
          "metadata": {}
        }
      ]
    },
    {
      "cell_type": "code",
      "execution_count": null,
      "id": "515bdc29-9a60-4737-9d8c-fd3b625fbe1d",
      "metadata": {
        "colab": {
          "base_uri": "https://localhost:8080/"
        },
        "id": "515bdc29-9a60-4737-9d8c-fd3b625fbe1d",
        "outputId": "70c7c163-ecbd-4023-ab45-4799a058fa4d"
      },
      "outputs": [
        {
          "output_type": "stream",
          "name": "stdout",
          "text": [
            "The most popular genre is Pop with 14 songs in Top 50.\n",
            "There is the list of genres with more than one song:\n",
            "Pop                  14\n",
            "Hip-Hop/Rap          13\n",
            "Dance/Electronic      5\n",
            "Alternative/Indie     4\n",
            "R&B/Soul              2\n",
            " Electro-pop          2\n"
          ]
        }
      ],
      "source": [
        "most_popular = df['genre'].value_counts()\n",
        "genre = most_popular[most_popular > 1]\n",
        "top_genre = most_popular.idxmax()\n",
        "top_count = most_popular.max()\n",
        "\n",
        "print(f\"The most popular genre is {top_genre} with {top_count} songs in Top 50.\")\n",
        "print(f'There is the list of genres with more than one song:')\n",
        "print(genre.to_string(header=False))"
      ]
    },
    {
      "cell_type": "markdown",
      "source": [
        "**How many genres are in total and which genres have just one song in the Top 50?**"
      ],
      "metadata": {
        "id": "AFBkptg5C0zi"
      },
      "id": "AFBkptg5C0zi"
    },
    {
      "cell_type": "code",
      "execution_count": null,
      "id": "9605a893-369c-41dd-ad86-57edfb830ff8",
      "metadata": {
        "colab": {
          "base_uri": "https://localhost:8080/"
        },
        "id": "9605a893-369c-41dd-ad86-57edfb830ff8",
        "outputId": "ac2e2036-c847-429c-fc8c-f458821dffd8"
      },
      "outputs": [
        {
          "output_type": "stream",
          "name": "stdout",
          "text": [
            "There are 16 genre in total.\n",
            "These genres have only one song: \n",
            "R&B/Hip-Hop alternative\n",
            "Nu-disco\n",
            "Pop/Soft Rock\n",
            "Pop rap\n",
            "Hip-Hop/Trap\n",
            "Dance-pop/Disco\n",
            "Disco-pop\n",
            "Dreampop/Hip-Hop/R&B\n",
            "Alternative/reggaeton/experimental\n",
            "Chamber pop\n"
          ]
        }
      ],
      "source": [
        "unique_genre = df['genre'].nunique()\n",
        "one_song = df['genre'].value_counts()\n",
        "one_song = one_song[one_song ==1].index.to_list()\n",
        "\n",
        "print(f'There are {unique_genre} genre in total.')\n",
        "print(f\"These genres have only one song: \")\n",
        "print('\\n'.join(one_song))\n"
      ]
    },
    {
      "cell_type": "markdown",
      "source": [
        "Pop is the most dominant genre in the Top 50 songs with 14 tracks, followed by Hip-Hop/Rap with 13 tracks. While these two genres lead, the list is very diverse, with many genres represented by just one song. This shows that the Top 50 includes songs from a wide range of genres."
      ],
      "metadata": {
        "id": "nB6R8GZ8EYyy"
      },
      "id": "nB6R8GZ8EYyy"
    },
    {
      "cell_type": "markdown",
      "source": [
        "# Feature Correlation Analysis\n",
        "To better understand the relationships between audio features, I calculated the correlation matrix and identified which features are strongly positively, strongly negatively, or not at all correlated with each other."
      ],
      "metadata": {
        "id": "iBp20GOnEbY_"
      },
      "id": "iBp20GOnEbY_"
    },
    {
      "cell_type": "code",
      "execution_count": null,
      "id": "50af5f1a-3ab6-4ece-85a6-108ef064c88a",
      "metadata": {
        "colab": {
          "base_uri": "https://localhost:8080/",
          "height": 390
        },
        "id": "50af5f1a-3ab6-4ece-85a6-108ef064c88a",
        "outputId": "10655714-431f-4b8f-9b6b-277a79a3e4d0"
      },
      "outputs": [
        {
          "output_type": "execute_result",
          "data": {
            "text/plain": [
              "<pandas.io.formats.style.Styler at 0x7f67a9babf50>"
            ],
            "text/html": [
              "<style type=\"text/css\">\n",
              "#T_5c64b_row0_col0, #T_5c64b_row1_col1, #T_5c64b_row2_col2, #T_5c64b_row3_col3, #T_5c64b_row4_col4, #T_5c64b_row5_col5, #T_5c64b_row6_col6, #T_5c64b_row7_col7, #T_5c64b_row8_col8, #T_5c64b_row9_col9, #T_5c64b_row10_col10 {\n",
              "  background-color: #023858;\n",
              "  color: #f1f1f1;\n",
              "}\n",
              "#T_5c64b_row0_col1, #T_5c64b_row5_col6 {\n",
              "  background-color: #a5bddb;\n",
              "  color: #000000;\n",
              "}\n",
              "#T_5c64b_row0_col2, #T_5c64b_row0_col10 {\n",
              "  background-color: #e5e1ef;\n",
              "  color: #000000;\n",
              "}\n",
              "#T_5c64b_row0_col3 {\n",
              "  background-color: #045b8f;\n",
              "  color: #f1f1f1;\n",
              "}\n",
              "#T_5c64b_row0_col4, #T_5c64b_row3_col6, #T_5c64b_row4_col0, #T_5c64b_row4_col1, #T_5c64b_row4_col2, #T_5c64b_row4_col8, #T_5c64b_row4_col9, #T_5c64b_row5_col7, #T_5c64b_row6_col3, #T_5c64b_row7_col5, #T_5c64b_row7_col10 {\n",
              "  background-color: #fff7fb;\n",
              "  color: #000000;\n",
              "}\n",
              "#T_5c64b_row0_col5 {\n",
              "  background-color: #dedcec;\n",
              "  color: #000000;\n",
              "}\n",
              "#T_5c64b_row0_col6, #T_5c64b_row3_col4, #T_5c64b_row3_col5 {\n",
              "  background-color: #efe9f3;\n",
              "  color: #000000;\n",
              "}\n",
              "#T_5c64b_row0_col7 {\n",
              "  background-color: #dfddec;\n",
              "  color: #000000;\n",
              "}\n",
              "#T_5c64b_row0_col8 {\n",
              "  background-color: #6da6cd;\n",
              "  color: #f1f1f1;\n",
              "}\n",
              "#T_5c64b_row0_col9 {\n",
              "  background-color: #ced0e6;\n",
              "  color: #000000;\n",
              "}\n",
              "#T_5c64b_row1_col0 {\n",
              "  background-color: #75a9cf;\n",
              "  color: #f1f1f1;\n",
              "}\n",
              "#T_5c64b_row1_col2 {\n",
              "  background-color: #acc0dd;\n",
              "  color: #000000;\n",
              "}\n",
              "#T_5c64b_row1_col3 {\n",
              "  background-color: #83afd3;\n",
              "  color: #f1f1f1;\n",
              "}\n",
              "#T_5c64b_row1_col4 {\n",
              "  background-color: #dddbec;\n",
              "  color: #000000;\n",
              "}\n",
              "#T_5c64b_row1_col5 {\n",
              "  background-color: #b8c6e0;\n",
              "  color: #000000;\n",
              "}\n",
              "#T_5c64b_row1_col6 {\n",
              "  background-color: #b0c2de;\n",
              "  color: #000000;\n",
              "}\n",
              "#T_5c64b_row1_col7, #T_5c64b_row6_col2 {\n",
              "  background-color: #ede8f3;\n",
              "  color: #000000;\n",
              "}\n",
              "#T_5c64b_row1_col8 {\n",
              "  background-color: #4c99c5;\n",
              "  color: #f1f1f1;\n",
              "}\n",
              "#T_5c64b_row1_col9, #T_5c64b_row7_col4 {\n",
              "  background-color: #b5c4df;\n",
              "  color: #000000;\n",
              "}\n",
              "#T_5c64b_row1_col10 {\n",
              "  background-color: #f7f0f7;\n",
              "  color: #000000;\n",
              "}\n",
              "#T_5c64b_row2_col0 {\n",
              "  background-color: #8bb2d4;\n",
              "  color: #000000;\n",
              "}\n",
              "#T_5c64b_row2_col1, #T_5c64b_row10_col6 {\n",
              "  background-color: #7eadd1;\n",
              "  color: #f1f1f1;\n",
              "}\n",
              "#T_5c64b_row2_col3 {\n",
              "  background-color: #afc1dd;\n",
              "  color: #000000;\n",
              "}\n",
              "#T_5c64b_row2_col4 {\n",
              "  background-color: #b3c3de;\n",
              "  color: #000000;\n",
              "}\n",
              "#T_5c64b_row2_col5 {\n",
              "  background-color: #f9f2f8;\n",
              "  color: #000000;\n",
              "}\n",
              "#T_5c64b_row2_col6, #T_5c64b_row2_col7, #T_5c64b_row5_col9, #T_5c64b_row9_col6 {\n",
              "  background-color: #a8bedc;\n",
              "  color: #000000;\n",
              "}\n",
              "#T_5c64b_row2_col8 {\n",
              "  background-color: #c2cbe2;\n",
              "  color: #000000;\n",
              "}\n",
              "#T_5c64b_row2_col9, #T_5c64b_row7_col1, #T_5c64b_row8_col4 {\n",
              "  background-color: #cdd0e5;\n",
              "  color: #000000;\n",
              "}\n",
              "#T_5c64b_row2_col10 {\n",
              "  background-color: #f3edf5;\n",
              "  color: #000000;\n",
              "}\n",
              "#T_5c64b_row3_col0 {\n",
              "  background-color: #04598c;\n",
              "  color: #f1f1f1;\n",
              "}\n",
              "#T_5c64b_row3_col1, #T_5c64b_row9_col1 {\n",
              "  background-color: #a1bbda;\n",
              "  color: #000000;\n",
              "}\n",
              "#T_5c64b_row3_col2 {\n",
              "  background-color: #f1ebf5;\n",
              "  color: #000000;\n",
              "}\n",
              "#T_5c64b_row3_col7 {\n",
              "  background-color: #f5eff6;\n",
              "  color: #000000;\n",
              "}\n",
              "#T_5c64b_row3_col8 {\n",
              "  background-color: #69a5cc;\n",
              "  color: #f1f1f1;\n",
              "}\n",
              "#T_5c64b_row3_col9 {\n",
              "  background-color: #c8cde4;\n",
              "  color: #000000;\n",
              "}\n",
              "#T_5c64b_row3_col10 {\n",
              "  background-color: #e8e4f0;\n",
              "  color: #000000;\n",
              "}\n",
              "#T_5c64b_row4_col3 {\n",
              "  background-color: #faf2f8;\n",
              "  color: #000000;\n",
              "}\n",
              "#T_5c64b_row4_col5 {\n",
              "  background-color: #fef6fb;\n",
              "  color: #000000;\n",
              "}\n",
              "#T_5c64b_row4_col6 {\n",
              "  background-color: #4a98c5;\n",
              "  color: #f1f1f1;\n",
              "}\n",
              "#T_5c64b_row4_col7, #T_5c64b_row5_col2 {\n",
              "  background-color: #fdf5fa;\n",
              "  color: #000000;\n",
              "}\n",
              "#T_5c64b_row4_col10 {\n",
              "  background-color: #f4eef6;\n",
              "  color: #000000;\n",
              "}\n",
              "#T_5c64b_row5_col0, #T_5c64b_row9_col0 {\n",
              "  background-color: #88b1d4;\n",
              "  color: #000000;\n",
              "}\n",
              "#T_5c64b_row5_col1 {\n",
              "  background-color: #8fb4d6;\n",
              "  color: #000000;\n",
              "}\n",
              "#T_5c64b_row5_col3 {\n",
              "  background-color: #b1c2de;\n",
              "  color: #000000;\n",
              "}\n",
              "#T_5c64b_row5_col4 {\n",
              "  background-color: #b7c5df;\n",
              "  color: #000000;\n",
              "}\n",
              "#T_5c64b_row5_col8, #T_5c64b_row10_col1 {\n",
              "  background-color: #d2d3e7;\n",
              "  color: #000000;\n",
              "}\n",
              "#T_5c64b_row5_col10 {\n",
              "  background-color: #94b6d7;\n",
              "  color: #000000;\n",
              "}\n",
              "#T_5c64b_row6_col0 {\n",
              "  background-color: #e0deed;\n",
              "  color: #000000;\n",
              "}\n",
              "#T_5c64b_row6_col1, #T_5c64b_row6_col10 {\n",
              "  background-color: #d0d1e6;\n",
              "  color: #000000;\n",
              "}\n",
              "#T_5c64b_row6_col4 {\n",
              "  background-color: #3b92c1;\n",
              "  color: #f1f1f1;\n",
              "}\n",
              "#T_5c64b_row6_col5, #T_5c64b_row9_col7 {\n",
              "  background-color: #e7e3f0;\n",
              "  color: #000000;\n",
              "}\n",
              "#T_5c64b_row6_col7, #T_5c64b_row8_col10, #T_5c64b_row10_col7 {\n",
              "  background-color: #f8f1f8;\n",
              "  color: #000000;\n",
              "}\n",
              "#T_5c64b_row6_col8 {\n",
              "  background-color: #faf3f9;\n",
              "  color: #000000;\n",
              "}\n",
              "#T_5c64b_row6_col9, #T_5c64b_row7_col9, #T_5c64b_row8_col2 {\n",
              "  background-color: #d9d8ea;\n",
              "  color: #000000;\n",
              "}\n",
              "#T_5c64b_row7_col0, #T_5c64b_row10_col5 {\n",
              "  background-color: #89b1d4;\n",
              "  color: #000000;\n",
              "}\n",
              "#T_5c64b_row7_col2 {\n",
              "  background-color: #adc1dd;\n",
              "  color: #000000;\n",
              "}\n",
              "#T_5c64b_row7_col3 {\n",
              "  background-color: #bcc7e1;\n",
              "  color: #000000;\n",
              "}\n",
              "#T_5c64b_row7_col6, #T_5c64b_row10_col9 {\n",
              "  background-color: #c0c9e2;\n",
              "  color: #000000;\n",
              "}\n",
              "#T_5c64b_row7_col8 {\n",
              "  background-color: #e2dfee;\n",
              "  color: #000000;\n",
              "}\n",
              "#T_5c64b_row8_col0 {\n",
              "  background-color: #308cbe;\n",
              "  color: #f1f1f1;\n",
              "}\n",
              "#T_5c64b_row8_col1, #T_5c64b_row8_col3 {\n",
              "  background-color: #3991c1;\n",
              "  color: #f1f1f1;\n",
              "}\n",
              "#T_5c64b_row8_col5, #T_5c64b_row9_col2 {\n",
              "  background-color: #e1dfed;\n",
              "  color: #000000;\n",
              "}\n",
              "#T_5c64b_row8_col6 {\n",
              "  background-color: #d6d6e9;\n",
              "  color: #000000;\n",
              "}\n",
              "#T_5c64b_row8_col7 {\n",
              "  background-color: #f1ebf4;\n",
              "  color: #000000;\n",
              "}\n",
              "#T_5c64b_row8_col9, #T_5c64b_row9_col8 {\n",
              "  background-color: #d4d4e8;\n",
              "  color: #000000;\n",
              "}\n",
              "#T_5c64b_row9_col3 {\n",
              "  background-color: #93b5d6;\n",
              "  color: #000000;\n",
              "}\n",
              "#T_5c64b_row9_col4 {\n",
              "  background-color: #cccfe5;\n",
              "  color: #000000;\n",
              "}\n",
              "#T_5c64b_row9_col5 {\n",
              "  background-color: #bbc7e0;\n",
              "  color: #000000;\n",
              "}\n",
              "#T_5c64b_row9_col10 {\n",
              "  background-color: #dbdaeb;\n",
              "  color: #000000;\n",
              "}\n",
              "#T_5c64b_row10_col0 {\n",
              "  background-color: #86b0d3;\n",
              "  color: #000000;\n",
              "}\n",
              "#T_5c64b_row10_col2 {\n",
              "  background-color: #f0eaf4;\n",
              "  color: #000000;\n",
              "}\n",
              "#T_5c64b_row10_col3 {\n",
              "  background-color: #9ebad9;\n",
              "  color: #000000;\n",
              "}\n",
              "#T_5c64b_row10_col4 {\n",
              "  background-color: #9cb9d9;\n",
              "  color: #000000;\n",
              "}\n",
              "#T_5c64b_row10_col8 {\n",
              "  background-color: #e4e1ef;\n",
              "  color: #000000;\n",
              "}\n",
              "</style>\n",
              "<table id=\"T_5c64b\" class=\"dataframe\">\n",
              "  <thead>\n",
              "    <tr>\n",
              "      <th class=\"blank level0\" >&nbsp;</th>\n",
              "      <th id=\"T_5c64b_level0_col0\" class=\"col_heading level0 col0\" >energy</th>\n",
              "      <th id=\"T_5c64b_level0_col1\" class=\"col_heading level0 col1\" >danceability</th>\n",
              "      <th id=\"T_5c64b_level0_col2\" class=\"col_heading level0 col2\" >key</th>\n",
              "      <th id=\"T_5c64b_level0_col3\" class=\"col_heading level0 col3\" >loudness</th>\n",
              "      <th id=\"T_5c64b_level0_col4\" class=\"col_heading level0 col4\" >acousticness</th>\n",
              "      <th id=\"T_5c64b_level0_col5\" class=\"col_heading level0 col5\" >speechiness</th>\n",
              "      <th id=\"T_5c64b_level0_col6\" class=\"col_heading level0 col6\" >instrumentalness</th>\n",
              "      <th id=\"T_5c64b_level0_col7\" class=\"col_heading level0 col7\" >liveness</th>\n",
              "      <th id=\"T_5c64b_level0_col8\" class=\"col_heading level0 col8\" >valence</th>\n",
              "      <th id=\"T_5c64b_level0_col9\" class=\"col_heading level0 col9\" >tempo</th>\n",
              "      <th id=\"T_5c64b_level0_col10\" class=\"col_heading level0 col10\" >duration_ms</th>\n",
              "    </tr>\n",
              "  </thead>\n",
              "  <tbody>\n",
              "    <tr>\n",
              "      <th id=\"T_5c64b_level0_row0\" class=\"row_heading level0 row0\" >energy</th>\n",
              "      <td id=\"T_5c64b_row0_col0\" class=\"data row0 col0\" >1.000000</td>\n",
              "      <td id=\"T_5c64b_row0_col1\" class=\"data row0 col1\" >0.152552</td>\n",
              "      <td id=\"T_5c64b_row0_col2\" class=\"data row0 col2\" >0.062428</td>\n",
              "      <td id=\"T_5c64b_row0_col3\" class=\"data row0 col3\" >0.791640</td>\n",
              "      <td id=\"T_5c64b_row0_col4\" class=\"data row0 col4\" >-0.682479</td>\n",
              "      <td id=\"T_5c64b_row0_col5\" class=\"data row0 col5\" >0.074267</td>\n",
              "      <td id=\"T_5c64b_row0_col6\" class=\"data row0 col6\" >-0.385515</td>\n",
              "      <td id=\"T_5c64b_row0_col7\" class=\"data row0 col7\" >0.069487</td>\n",
              "      <td id=\"T_5c64b_row0_col8\" class=\"data row0 col8\" >0.393453</td>\n",
              "      <td id=\"T_5c64b_row0_col9\" class=\"data row0 col9\" >0.075191</td>\n",
              "      <td id=\"T_5c64b_row0_col10\" class=\"data row0 col10\" >0.081971</td>\n",
              "    </tr>\n",
              "    <tr>\n",
              "      <th id=\"T_5c64b_level0_row1\" class=\"row_heading level0 row1\" >danceability</th>\n",
              "      <td id=\"T_5c64b_row1_col0\" class=\"data row1 col0\" >0.152552</td>\n",
              "      <td id=\"T_5c64b_row1_col1\" class=\"data row1 col1\" >1.000000</td>\n",
              "      <td id=\"T_5c64b_row1_col2\" class=\"data row1 col2\" >0.285036</td>\n",
              "      <td id=\"T_5c64b_row1_col3\" class=\"data row1 col3\" >0.167147</td>\n",
              "      <td id=\"T_5c64b_row1_col4\" class=\"data row1 col4\" >-0.359135</td>\n",
              "      <td id=\"T_5c64b_row1_col5\" class=\"data row1 col5\" >0.226148</td>\n",
              "      <td id=\"T_5c64b_row1_col6\" class=\"data row1 col6\" >-0.017706</td>\n",
              "      <td id=\"T_5c64b_row1_col7\" class=\"data row1 col7\" >-0.006648</td>\n",
              "      <td id=\"T_5c64b_row1_col8\" class=\"data row1 col8\" >0.479953</td>\n",
              "      <td id=\"T_5c64b_row1_col9\" class=\"data row1 col9\" >0.168956</td>\n",
              "      <td id=\"T_5c64b_row1_col10\" class=\"data row1 col10\" >-0.033763</td>\n",
              "    </tr>\n",
              "    <tr>\n",
              "      <th id=\"T_5c64b_level0_row2\" class=\"row_heading level0 row2\" >key</th>\n",
              "      <td id=\"T_5c64b_row2_col0\" class=\"data row2 col0\" >0.062428</td>\n",
              "      <td id=\"T_5c64b_row2_col1\" class=\"data row2 col1\" >0.285036</td>\n",
              "      <td id=\"T_5c64b_row2_col2\" class=\"data row2 col2\" >1.000000</td>\n",
              "      <td id=\"T_5c64b_row2_col3\" class=\"data row2 col3\" >-0.009178</td>\n",
              "      <td id=\"T_5c64b_row2_col4\" class=\"data row2 col4\" >-0.113394</td>\n",
              "      <td id=\"T_5c64b_row2_col5\" class=\"data row2 col5\" >-0.094965</td>\n",
              "      <td id=\"T_5c64b_row2_col6\" class=\"data row2 col6\" >0.020802</td>\n",
              "      <td id=\"T_5c64b_row2_col7\" class=\"data row2 col7\" >0.278672</td>\n",
              "      <td id=\"T_5c64b_row2_col8\" class=\"data row2 col8\" >0.120007</td>\n",
              "      <td id=\"T_5c64b_row2_col9\" class=\"data row2 col9\" >0.080475</td>\n",
              "      <td id=\"T_5c64b_row2_col10\" class=\"data row2 col10\" >-0.003345</td>\n",
              "    </tr>\n",
              "    <tr>\n",
              "      <th id=\"T_5c64b_level0_row3\" class=\"row_heading level0 row3\" >loudness</th>\n",
              "      <td id=\"T_5c64b_row3_col0\" class=\"data row3 col0\" >0.791640</td>\n",
              "      <td id=\"T_5c64b_row3_col1\" class=\"data row3 col1\" >0.167147</td>\n",
              "      <td id=\"T_5c64b_row3_col2\" class=\"data row3 col2\" >-0.009178</td>\n",
              "      <td id=\"T_5c64b_row3_col3\" class=\"data row3 col3\" >1.000000</td>\n",
              "      <td id=\"T_5c64b_row3_col4\" class=\"data row3 col4\" >-0.498695</td>\n",
              "      <td id=\"T_5c64b_row3_col5\" class=\"data row3 col5\" >-0.021693</td>\n",
              "      <td id=\"T_5c64b_row3_col6\" class=\"data row3 col6\" >-0.553735</td>\n",
              "      <td id=\"T_5c64b_row3_col7\" class=\"data row3 col7\" >-0.069939</td>\n",
              "      <td id=\"T_5c64b_row3_col8\" class=\"data row3 col8\" >0.406772</td>\n",
              "      <td id=\"T_5c64b_row3_col9\" class=\"data row3 col9\" >0.102097</td>\n",
              "      <td id=\"T_5c64b_row3_col10\" class=\"data row3 col10\" >0.064130</td>\n",
              "    </tr>\n",
              "    <tr>\n",
              "      <th id=\"T_5c64b_level0_row4\" class=\"row_heading level0 row4\" >acousticness</th>\n",
              "      <td id=\"T_5c64b_row4_col0\" class=\"data row4 col0\" >-0.682479</td>\n",
              "      <td id=\"T_5c64b_row4_col1\" class=\"data row4 col1\" >-0.359135</td>\n",
              "      <td id=\"T_5c64b_row4_col2\" class=\"data row4 col2\" >-0.113394</td>\n",
              "      <td id=\"T_5c64b_row4_col3\" class=\"data row4 col3\" >-0.498695</td>\n",
              "      <td id=\"T_5c64b_row4_col4\" class=\"data row4 col4\" >1.000000</td>\n",
              "      <td id=\"T_5c64b_row4_col5\" class=\"data row4 col5\" >-0.135392</td>\n",
              "      <td id=\"T_5c64b_row4_col6\" class=\"data row4 col6\" >0.352184</td>\n",
              "      <td id=\"T_5c64b_row4_col7\" class=\"data row4 col7\" >-0.128384</td>\n",
              "      <td id=\"T_5c64b_row4_col8\" class=\"data row4 col8\" >-0.243192</td>\n",
              "      <td id=\"T_5c64b_row4_col9\" class=\"data row4 col9\" >-0.241119</td>\n",
              "      <td id=\"T_5c64b_row4_col10\" class=\"data row4 col10\" >-0.010988</td>\n",
              "    </tr>\n",
              "    <tr>\n",
              "      <th id=\"T_5c64b_level0_row5\" class=\"row_heading level0 row5\" >speechiness</th>\n",
              "      <td id=\"T_5c64b_row5_col0\" class=\"data row5 col0\" >0.074267</td>\n",
              "      <td id=\"T_5c64b_row5_col1\" class=\"data row5 col1\" >0.226148</td>\n",
              "      <td id=\"T_5c64b_row5_col2\" class=\"data row5 col2\" >-0.094965</td>\n",
              "      <td id=\"T_5c64b_row5_col3\" class=\"data row5 col3\" >-0.021693</td>\n",
              "      <td id=\"T_5c64b_row5_col4\" class=\"data row5 col4\" >-0.135392</td>\n",
              "      <td id=\"T_5c64b_row5_col5\" class=\"data row5 col5\" >1.000000</td>\n",
              "      <td id=\"T_5c64b_row5_col6\" class=\"data row5 col6\" >0.028948</td>\n",
              "      <td id=\"T_5c64b_row5_col7\" class=\"data row5 col7\" >-0.142957</td>\n",
              "      <td id=\"T_5c64b_row5_col8\" class=\"data row5 col8\" >0.053867</td>\n",
              "      <td id=\"T_5c64b_row5_col9\" class=\"data row5 col9\" >0.215504</td>\n",
              "      <td id=\"T_5c64b_row5_col10\" class=\"data row5 col10\" >0.366976</td>\n",
              "    </tr>\n",
              "    <tr>\n",
              "      <th id=\"T_5c64b_level0_row6\" class=\"row_heading level0 row6\" >instrumentalness</th>\n",
              "      <td id=\"T_5c64b_row6_col0\" class=\"data row6 col0\" >-0.385515</td>\n",
              "      <td id=\"T_5c64b_row6_col1\" class=\"data row6 col1\" >-0.017706</td>\n",
              "      <td id=\"T_5c64b_row6_col2\" class=\"data row6 col2\" >0.020802</td>\n",
              "      <td id=\"T_5c64b_row6_col3\" class=\"data row6 col3\" >-0.553735</td>\n",
              "      <td id=\"T_5c64b_row6_col4\" class=\"data row6 col4\" >0.352184</td>\n",
              "      <td id=\"T_5c64b_row6_col5\" class=\"data row6 col5\" >0.028948</td>\n",
              "      <td id=\"T_5c64b_row6_col6\" class=\"data row6 col6\" >1.000000</td>\n",
              "      <td id=\"T_5c64b_row6_col7\" class=\"data row6 col7\" >-0.087034</td>\n",
              "      <td id=\"T_5c64b_row6_col8\" class=\"data row6 col8\" >-0.203283</td>\n",
              "      <td id=\"T_5c64b_row6_col9\" class=\"data row6 col9\" >0.018853</td>\n",
              "      <td id=\"T_5c64b_row6_col10\" class=\"data row6 col10\" >0.184709</td>\n",
              "    </tr>\n",
              "    <tr>\n",
              "      <th id=\"T_5c64b_level0_row7\" class=\"row_heading level0 row7\" >liveness</th>\n",
              "      <td id=\"T_5c64b_row7_col0\" class=\"data row7 col0\" >0.069487</td>\n",
              "      <td id=\"T_5c64b_row7_col1\" class=\"data row7 col1\" >-0.006648</td>\n",
              "      <td id=\"T_5c64b_row7_col2\" class=\"data row7 col2\" >0.278672</td>\n",
              "      <td id=\"T_5c64b_row7_col3\" class=\"data row7 col3\" >-0.069939</td>\n",
              "      <td id=\"T_5c64b_row7_col4\" class=\"data row7 col4\" >-0.128384</td>\n",
              "      <td id=\"T_5c64b_row7_col5\" class=\"data row7 col5\" >-0.142957</td>\n",
              "      <td id=\"T_5c64b_row7_col6\" class=\"data row7 col6\" >-0.087034</td>\n",
              "      <td id=\"T_5c64b_row7_col7\" class=\"data row7 col7\" >1.000000</td>\n",
              "      <td id=\"T_5c64b_row7_col8\" class=\"data row7 col8\" >-0.033366</td>\n",
              "      <td id=\"T_5c64b_row7_col9\" class=\"data row7 col9\" >0.025457</td>\n",
              "      <td id=\"T_5c64b_row7_col10\" class=\"data row7 col10\" >-0.090188</td>\n",
              "    </tr>\n",
              "    <tr>\n",
              "      <th id=\"T_5c64b_level0_row8\" class=\"row_heading level0 row8\" >valence</th>\n",
              "      <td id=\"T_5c64b_row8_col0\" class=\"data row8 col0\" >0.393453</td>\n",
              "      <td id=\"T_5c64b_row8_col1\" class=\"data row8 col1\" >0.479953</td>\n",
              "      <td id=\"T_5c64b_row8_col2\" class=\"data row8 col2\" >0.120007</td>\n",
              "      <td id=\"T_5c64b_row8_col3\" class=\"data row8 col3\" >0.406772</td>\n",
              "      <td id=\"T_5c64b_row8_col4\" class=\"data row8 col4\" >-0.243192</td>\n",
              "      <td id=\"T_5c64b_row8_col5\" class=\"data row8 col5\" >0.053867</td>\n",
              "      <td id=\"T_5c64b_row8_col6\" class=\"data row8 col6\" >-0.203283</td>\n",
              "      <td id=\"T_5c64b_row8_col7\" class=\"data row8 col7\" >-0.033366</td>\n",
              "      <td id=\"T_5c64b_row8_col8\" class=\"data row8 col8\" >1.000000</td>\n",
              "      <td id=\"T_5c64b_row8_col9\" class=\"data row8 col9\" >0.045089</td>\n",
              "      <td id=\"T_5c64b_row8_col10\" class=\"data row8 col10\" >-0.039794</td>\n",
              "    </tr>\n",
              "    <tr>\n",
              "      <th id=\"T_5c64b_level0_row9\" class=\"row_heading level0 row9\" >tempo</th>\n",
              "      <td id=\"T_5c64b_row9_col0\" class=\"data row9 col0\" >0.075191</td>\n",
              "      <td id=\"T_5c64b_row9_col1\" class=\"data row9 col1\" >0.168956</td>\n",
              "      <td id=\"T_5c64b_row9_col2\" class=\"data row9 col2\" >0.080475</td>\n",
              "      <td id=\"T_5c64b_row9_col3\" class=\"data row9 col3\" >0.102097</td>\n",
              "      <td id=\"T_5c64b_row9_col4\" class=\"data row9 col4\" >-0.241119</td>\n",
              "      <td id=\"T_5c64b_row9_col5\" class=\"data row9 col5\" >0.215504</td>\n",
              "      <td id=\"T_5c64b_row9_col6\" class=\"data row9 col6\" >0.018853</td>\n",
              "      <td id=\"T_5c64b_row9_col7\" class=\"data row9 col7\" >0.025457</td>\n",
              "      <td id=\"T_5c64b_row9_col8\" class=\"data row9 col8\" >0.045089</td>\n",
              "      <td id=\"T_5c64b_row9_col9\" class=\"data row9 col9\" >1.000000</td>\n",
              "      <td id=\"T_5c64b_row9_col10\" class=\"data row9 col10\" >0.130328</td>\n",
              "    </tr>\n",
              "    <tr>\n",
              "      <th id=\"T_5c64b_level0_row10\" class=\"row_heading level0 row10\" >duration_ms</th>\n",
              "      <td id=\"T_5c64b_row10_col0\" class=\"data row10 col0\" >0.081971</td>\n",
              "      <td id=\"T_5c64b_row10_col1\" class=\"data row10 col1\" >-0.033763</td>\n",
              "      <td id=\"T_5c64b_row10_col2\" class=\"data row10 col2\" >-0.003345</td>\n",
              "      <td id=\"T_5c64b_row10_col3\" class=\"data row10 col3\" >0.064130</td>\n",
              "      <td id=\"T_5c64b_row10_col4\" class=\"data row10 col4\" >-0.010988</td>\n",
              "      <td id=\"T_5c64b_row10_col5\" class=\"data row10 col5\" >0.366976</td>\n",
              "      <td id=\"T_5c64b_row10_col6\" class=\"data row10 col6\" >0.184709</td>\n",
              "      <td id=\"T_5c64b_row10_col7\" class=\"data row10 col7\" >-0.090188</td>\n",
              "      <td id=\"T_5c64b_row10_col8\" class=\"data row10 col8\" >-0.039794</td>\n",
              "      <td id=\"T_5c64b_row10_col9\" class=\"data row10 col9\" >0.130328</td>\n",
              "      <td id=\"T_5c64b_row10_col10\" class=\"data row10 col10\" >1.000000</td>\n",
              "    </tr>\n",
              "  </tbody>\n",
              "</table>\n"
            ]
          },
          "metadata": {},
          "execution_count": 69
        }
      ],
      "source": [
        "df_cleaned = df.drop(columns=['Unnamed: 0'])\n",
        "correlation = df_cleaned.corr(numeric_only=True)\n",
        "correlation.style.background_gradient()\n"
      ]
    },
    {
      "cell_type": "markdown",
      "source": [
        "**Which features are strongly positively correlated?**"
      ],
      "metadata": {
        "id": "VxrZhoOYFPiV"
      },
      "id": "VxrZhoOYFPiV"
    },
    {
      "cell_type": "code",
      "execution_count": null,
      "id": "e2b35486-8fe1-4993-a092-3ec621636757",
      "metadata": {
        "colab": {
          "base_uri": "https://localhost:8080/"
        },
        "id": "e2b35486-8fe1-4993-a092-3ec621636757",
        "outputId": "18f54fa8-4211-459f-a0c8-57e01e6febdb"
      },
      "outputs": [
        {
          "output_type": "stream",
          "name": "stdout",
          "text": [
            "Feature_1        energy\n",
            "Feature_2      loudness\n",
            "Correlation     0.79164\n",
            "Name: 0, dtype: object\n"
          ]
        }
      ],
      "source": [
        "df_cleaned = df.drop(columns=['Unnamed: 0'])\n",
        "correlation = df_cleaned.corr(numeric_only=True)\n",
        "corr_no_self = correlation[correlation != 1.0]\n",
        "strong_positive = corr_no_self[corr_no_self > 0.6]\n",
        "\n",
        "strong_positive_cleaned = strong_positive.stack().reset_index()\n",
        "strong_positive_cleaned.columns = ['Feature_1', 'Feature_2', 'Correlation']\n",
        "\n",
        "print(strong_positive_cleaned.loc[0])"
      ]
    },
    {
      "cell_type": "markdown",
      "source": [
        "The correlation between energy and loudness is 0.79, indicating that songs that are more energetic are often louder as well. This suggests that energetic genres like Pop and Hip-Hop/Rap, which dominate the Top 50, are more likely to be loud and energetic."
      ],
      "metadata": {
        "id": "LKjhDtaTiPk-"
      },
      "id": "LKjhDtaTiPk-"
    },
    {
      "cell_type": "markdown",
      "source": [
        "**Which features are strongly negatively correlated?**"
      ],
      "metadata": {
        "id": "_A2ikBGCFffL"
      },
      "id": "_A2ikBGCFffL"
    },
    {
      "cell_type": "code",
      "execution_count": null,
      "id": "e5e8ac01-8603-4e56-9550-fffe3b8160b4",
      "metadata": {
        "colab": {
          "base_uri": "https://localhost:8080/"
        },
        "id": "e5e8ac01-8603-4e56-9550-fffe3b8160b4",
        "outputId": "c05517f4-6a50-49f8-c34d-dd9a55c39d47"
      },
      "outputs": [
        {
          "output_type": "stream",
          "name": "stdout",
          "text": [
            "Feature_1            energy\n",
            "Feature_2      acousticness\n",
            "Correlation       -0.682479\n",
            "Name: 0, dtype: object\n"
          ]
        }
      ],
      "source": [
        "df_cleaned = df.drop(columns=['Unnamed: 0'])\n",
        "correlation = df_cleaned.corr(numeric_only=True)\n",
        "strong_negative = correlation[correlation < -0.6]\n",
        "\n",
        "strong_negative_cleaned = strong_negative.stack().reset_index()\n",
        "strong_negative_cleaned.columns = ['Feature_1', 'Feature_2', 'Correlation']\n",
        "\n",
        "print(strong_negative_cleaned.loc[0])"
      ]
    },
    {
      "cell_type": "markdown",
      "id": "ab5b3127-074e-4b61-9ba2-aac7c193cc7e",
      "metadata": {
        "id": "ab5b3127-074e-4b61-9ba2-aac7c193cc7e"
      },
      "source": [
        "The correlation between energy and acousticness is -0.68, indicating a strong negative relationship. This means that the more acoustic a song is, the less energetic it tends to be."
      ]
    },
    {
      "cell_type": "markdown",
      "source": [
        "**Which features are not correlated?**"
      ],
      "metadata": {
        "id": "BZIUizcrGGMy"
      },
      "id": "BZIUizcrGGMy"
    },
    {
      "cell_type": "code",
      "execution_count": null,
      "id": "1868a6aa-3072-4a28-b345-ea6b1921d285",
      "metadata": {
        "colab": {
          "base_uri": "https://localhost:8080/"
        },
        "id": "1868a6aa-3072-4a28-b345-ea6b1921d285",
        "outputId": "7b84d472-38c3-4028-d103-ae818161edbf"
      },
      "outputs": [
        {
          "output_type": "stream",
          "name": "stdout",
          "text": [
            "There 26 feature pairs with very low correlation.\n",
            "           Feature_1         Feature_2  Correlation\n",
            "0             energy               key     0.062428\n",
            "1             energy       speechiness     0.074267\n",
            "2             energy          liveness     0.069487\n",
            "3             energy             tempo     0.075191\n",
            "4             energy       duration_ms     0.081971\n",
            "5       danceability  instrumentalness    -0.017706\n",
            "6       danceability          liveness    -0.006648\n",
            "7       danceability       duration_ms    -0.033763\n",
            "9                key          loudness    -0.009178\n",
            "10               key       speechiness    -0.094965\n",
            "11               key  instrumentalness     0.020802\n",
            "12               key             tempo     0.080475\n",
            "13               key       duration_ms    -0.003345\n",
            "15          loudness       speechiness    -0.021693\n",
            "16          loudness          liveness    -0.069939\n",
            "17          loudness       duration_ms     0.064130\n",
            "18      acousticness       duration_ms    -0.010988\n",
            "22       speechiness  instrumentalness     0.028948\n",
            "23       speechiness           valence     0.053867\n",
            "27  instrumentalness          liveness    -0.087034\n",
            "28  instrumentalness             tempo     0.018853\n",
            "33          liveness           valence    -0.033366\n",
            "34          liveness             tempo     0.025457\n",
            "35          liveness       duration_ms    -0.090188\n",
            "38           valence             tempo     0.045089\n",
            "39           valence       duration_ms    -0.039794\n"
          ]
        }
      ],
      "source": [
        "df_cleaned = df.drop(columns=['Unnamed: 0'])\n",
        "correlation = df_cleaned.corr(numeric_only=True)\n",
        "no_correlation = correlation[(correlation > -0.1) & (correlation < 0.1)]\n",
        "\n",
        "no_correlation_cleaned = no_correlation.stack().reset_index()\n",
        "no_correlation_cleaned.columns = ['Feature_1', 'Feature_2', 'Correlation']\n",
        "no_correlation_cleaned = no_correlation_cleaned.drop_duplicates(\n",
        "    subset=['Correlation'], keep='first')\n",
        "print(f'There {len(no_correlation_cleaned)} feature pairs with very low correlation.')\n",
        "print(no_correlation_cleaned)"
      ]
    },
    {
      "cell_type": "markdown",
      "source": [
        " Most of the features in this group have very weak correlations (close to 0), which means they do not show any meaningful relationship with each other. This suggests that many audio features are quite independent and do not necessarily affect each other directly."
      ],
      "metadata": {
        "id": "EAT4zhbBGY4F"
      },
      "id": "EAT4zhbBGY4F"
    },
    {
      "cell_type": "markdown",
      "source": [
        "The Top 50 songs tend to follow certain trends, with energetic and loud songs being more common in genres like Pop and Hip-Hop/Rap. At the same time, there are a variety of songs with different acoustic and instrumental qualities, especially from genres like Alternative/Indie. While some features like energy and loudness are strongly related, many others remain independent, contributing to the diversity of the songs in the list.\n",
        "\n"
      ],
      "metadata": {
        "id": "JjMwXKg3Gcma"
      },
      "id": "JjMwXKg3Gcma"
    },
    {
      "cell_type": "markdown",
      "source": [
        "# Genre Comparison of Audio Features\n",
        "Let's compare the average values of three key audio features - danceability, loudness, and acousticness - across four main genres represented in the dataset:"
      ],
      "metadata": {
        "id": "J_vXU51VGcN7"
      },
      "id": "J_vXU51VGcN7"
    },
    {
      "cell_type": "code",
      "execution_count": null,
      "id": "71c29d27-77ad-4ced-9907-8e8eba76838f",
      "metadata": {
        "colab": {
          "base_uri": "https://localhost:8080/",
          "height": 204
        },
        "id": "71c29d27-77ad-4ced-9907-8e8eba76838f",
        "outputId": "5c9754cf-7e78-422e-aa87-d45606eafc27"
      },
      "outputs": [
        {
          "output_type": "execute_result",
          "data": {
            "text/plain": [
              "                   danceability  loudness  acousticness\n",
              "genre                                                  \n",
              "Alternative/Indie      0.661750 -5.421000      0.583500\n",
              "Dance/Electronic       0.755000 -5.338000      0.099440\n",
              "Hip-Hop/Rap            0.765538 -6.917846      0.188741\n",
              "Pop                    0.677571 -6.460357      0.323843"
            ],
            "text/html": [
              "\n",
              "  <div id=\"df-0df4d156-bcc0-4ea1-bddb-4f9c7c581bc9\" class=\"colab-df-container\">\n",
              "    <div>\n",
              "<style scoped>\n",
              "    .dataframe tbody tr th:only-of-type {\n",
              "        vertical-align: middle;\n",
              "    }\n",
              "\n",
              "    .dataframe tbody tr th {\n",
              "        vertical-align: top;\n",
              "    }\n",
              "\n",
              "    .dataframe thead th {\n",
              "        text-align: right;\n",
              "    }\n",
              "</style>\n",
              "<table border=\"1\" class=\"dataframe\">\n",
              "  <thead>\n",
              "    <tr style=\"text-align: right;\">\n",
              "      <th></th>\n",
              "      <th>danceability</th>\n",
              "      <th>loudness</th>\n",
              "      <th>acousticness</th>\n",
              "    </tr>\n",
              "    <tr>\n",
              "      <th>genre</th>\n",
              "      <th></th>\n",
              "      <th></th>\n",
              "      <th></th>\n",
              "    </tr>\n",
              "  </thead>\n",
              "  <tbody>\n",
              "    <tr>\n",
              "      <th>Alternative/Indie</th>\n",
              "      <td>0.661750</td>\n",
              "      <td>-5.421000</td>\n",
              "      <td>0.583500</td>\n",
              "    </tr>\n",
              "    <tr>\n",
              "      <th>Dance/Electronic</th>\n",
              "      <td>0.755000</td>\n",
              "      <td>-5.338000</td>\n",
              "      <td>0.099440</td>\n",
              "    </tr>\n",
              "    <tr>\n",
              "      <th>Hip-Hop/Rap</th>\n",
              "      <td>0.765538</td>\n",
              "      <td>-6.917846</td>\n",
              "      <td>0.188741</td>\n",
              "    </tr>\n",
              "    <tr>\n",
              "      <th>Pop</th>\n",
              "      <td>0.677571</td>\n",
              "      <td>-6.460357</td>\n",
              "      <td>0.323843</td>\n",
              "    </tr>\n",
              "  </tbody>\n",
              "</table>\n",
              "</div>\n",
              "    <div class=\"colab-df-buttons\">\n",
              "\n",
              "  <div class=\"colab-df-container\">\n",
              "    <button class=\"colab-df-convert\" onclick=\"convertToInteractive('df-0df4d156-bcc0-4ea1-bddb-4f9c7c581bc9')\"\n",
              "            title=\"Convert this dataframe to an interactive table.\"\n",
              "            style=\"display:none;\">\n",
              "\n",
              "  <svg xmlns=\"http://www.w3.org/2000/svg\" height=\"24px\" viewBox=\"0 -960 960 960\">\n",
              "    <path d=\"M120-120v-720h720v720H120Zm60-500h600v-160H180v160Zm220 220h160v-160H400v160Zm0 220h160v-160H400v160ZM180-400h160v-160H180v160Zm440 0h160v-160H620v160ZM180-180h160v-160H180v160Zm440 0h160v-160H620v160Z\"/>\n",
              "  </svg>\n",
              "    </button>\n",
              "\n",
              "  <style>\n",
              "    .colab-df-container {\n",
              "      display:flex;\n",
              "      gap: 12px;\n",
              "    }\n",
              "\n",
              "    .colab-df-convert {\n",
              "      background-color: #E8F0FE;\n",
              "      border: none;\n",
              "      border-radius: 50%;\n",
              "      cursor: pointer;\n",
              "      display: none;\n",
              "      fill: #1967D2;\n",
              "      height: 32px;\n",
              "      padding: 0 0 0 0;\n",
              "      width: 32px;\n",
              "    }\n",
              "\n",
              "    .colab-df-convert:hover {\n",
              "      background-color: #E2EBFA;\n",
              "      box-shadow: 0px 1px 2px rgba(60, 64, 67, 0.3), 0px 1px 3px 1px rgba(60, 64, 67, 0.15);\n",
              "      fill: #174EA6;\n",
              "    }\n",
              "\n",
              "    .colab-df-buttons div {\n",
              "      margin-bottom: 4px;\n",
              "    }\n",
              "\n",
              "    [theme=dark] .colab-df-convert {\n",
              "      background-color: #3B4455;\n",
              "      fill: #D2E3FC;\n",
              "    }\n",
              "\n",
              "    [theme=dark] .colab-df-convert:hover {\n",
              "      background-color: #434B5C;\n",
              "      box-shadow: 0px 1px 3px 1px rgba(0, 0, 0, 0.15);\n",
              "      filter: drop-shadow(0px 1px 2px rgba(0, 0, 0, 0.3));\n",
              "      fill: #FFFFFF;\n",
              "    }\n",
              "  </style>\n",
              "\n",
              "    <script>\n",
              "      const buttonEl =\n",
              "        document.querySelector('#df-0df4d156-bcc0-4ea1-bddb-4f9c7c581bc9 button.colab-df-convert');\n",
              "      buttonEl.style.display =\n",
              "        google.colab.kernel.accessAllowed ? 'block' : 'none';\n",
              "\n",
              "      async function convertToInteractive(key) {\n",
              "        const element = document.querySelector('#df-0df4d156-bcc0-4ea1-bddb-4f9c7c581bc9');\n",
              "        const dataTable =\n",
              "          await google.colab.kernel.invokeFunction('convertToInteractive',\n",
              "                                                    [key], {});\n",
              "        if (!dataTable) return;\n",
              "\n",
              "        const docLinkHtml = 'Like what you see? Visit the ' +\n",
              "          '<a target=\"_blank\" href=https://colab.research.google.com/notebooks/data_table.ipynb>data table notebook</a>'\n",
              "          + ' to learn more about interactive tables.';\n",
              "        element.innerHTML = '';\n",
              "        dataTable['output_type'] = 'display_data';\n",
              "        await google.colab.output.renderOutput(dataTable, element);\n",
              "        const docLink = document.createElement('div');\n",
              "        docLink.innerHTML = docLinkHtml;\n",
              "        element.appendChild(docLink);\n",
              "      }\n",
              "    </script>\n",
              "  </div>\n",
              "\n",
              "\n",
              "<div id=\"df-11fd286b-08ad-4b72-a799-d5e84395685f\">\n",
              "  <button class=\"colab-df-quickchart\" onclick=\"quickchart('df-11fd286b-08ad-4b72-a799-d5e84395685f')\"\n",
              "            title=\"Suggest charts\"\n",
              "            style=\"display:none;\">\n",
              "\n",
              "<svg xmlns=\"http://www.w3.org/2000/svg\" height=\"24px\"viewBox=\"0 0 24 24\"\n",
              "     width=\"24px\">\n",
              "    <g>\n",
              "        <path d=\"M19 3H5c-1.1 0-2 .9-2 2v14c0 1.1.9 2 2 2h14c1.1 0 2-.9 2-2V5c0-1.1-.9-2-2-2zM9 17H7v-7h2v7zm4 0h-2V7h2v10zm4 0h-2v-4h2v4z\"/>\n",
              "    </g>\n",
              "</svg>\n",
              "  </button>\n",
              "\n",
              "<style>\n",
              "  .colab-df-quickchart {\n",
              "      --bg-color: #E8F0FE;\n",
              "      --fill-color: #1967D2;\n",
              "      --hover-bg-color: #E2EBFA;\n",
              "      --hover-fill-color: #174EA6;\n",
              "      --disabled-fill-color: #AAA;\n",
              "      --disabled-bg-color: #DDD;\n",
              "  }\n",
              "\n",
              "  [theme=dark] .colab-df-quickchart {\n",
              "      --bg-color: #3B4455;\n",
              "      --fill-color: #D2E3FC;\n",
              "      --hover-bg-color: #434B5C;\n",
              "      --hover-fill-color: #FFFFFF;\n",
              "      --disabled-bg-color: #3B4455;\n",
              "      --disabled-fill-color: #666;\n",
              "  }\n",
              "\n",
              "  .colab-df-quickchart {\n",
              "    background-color: var(--bg-color);\n",
              "    border: none;\n",
              "    border-radius: 50%;\n",
              "    cursor: pointer;\n",
              "    display: none;\n",
              "    fill: var(--fill-color);\n",
              "    height: 32px;\n",
              "    padding: 0;\n",
              "    width: 32px;\n",
              "  }\n",
              "\n",
              "  .colab-df-quickchart:hover {\n",
              "    background-color: var(--hover-bg-color);\n",
              "    box-shadow: 0 1px 2px rgba(60, 64, 67, 0.3), 0 1px 3px 1px rgba(60, 64, 67, 0.15);\n",
              "    fill: var(--button-hover-fill-color);\n",
              "  }\n",
              "\n",
              "  .colab-df-quickchart-complete:disabled,\n",
              "  .colab-df-quickchart-complete:disabled:hover {\n",
              "    background-color: var(--disabled-bg-color);\n",
              "    fill: var(--disabled-fill-color);\n",
              "    box-shadow: none;\n",
              "  }\n",
              "\n",
              "  .colab-df-spinner {\n",
              "    border: 2px solid var(--fill-color);\n",
              "    border-color: transparent;\n",
              "    border-bottom-color: var(--fill-color);\n",
              "    animation:\n",
              "      spin 1s steps(1) infinite;\n",
              "  }\n",
              "\n",
              "  @keyframes spin {\n",
              "    0% {\n",
              "      border-color: transparent;\n",
              "      border-bottom-color: var(--fill-color);\n",
              "      border-left-color: var(--fill-color);\n",
              "    }\n",
              "    20% {\n",
              "      border-color: transparent;\n",
              "      border-left-color: var(--fill-color);\n",
              "      border-top-color: var(--fill-color);\n",
              "    }\n",
              "    30% {\n",
              "      border-color: transparent;\n",
              "      border-left-color: var(--fill-color);\n",
              "      border-top-color: var(--fill-color);\n",
              "      border-right-color: var(--fill-color);\n",
              "    }\n",
              "    40% {\n",
              "      border-color: transparent;\n",
              "      border-right-color: var(--fill-color);\n",
              "      border-top-color: var(--fill-color);\n",
              "    }\n",
              "    60% {\n",
              "      border-color: transparent;\n",
              "      border-right-color: var(--fill-color);\n",
              "    }\n",
              "    80% {\n",
              "      border-color: transparent;\n",
              "      border-right-color: var(--fill-color);\n",
              "      border-bottom-color: var(--fill-color);\n",
              "    }\n",
              "    90% {\n",
              "      border-color: transparent;\n",
              "      border-bottom-color: var(--fill-color);\n",
              "    }\n",
              "  }\n",
              "</style>\n",
              "\n",
              "  <script>\n",
              "    async function quickchart(key) {\n",
              "      const quickchartButtonEl =\n",
              "        document.querySelector('#' + key + ' button');\n",
              "      quickchartButtonEl.disabled = true;  // To prevent multiple clicks.\n",
              "      quickchartButtonEl.classList.add('colab-df-spinner');\n",
              "      try {\n",
              "        const charts = await google.colab.kernel.invokeFunction(\n",
              "            'suggestCharts', [key], {});\n",
              "      } catch (error) {\n",
              "        console.error('Error during call to suggestCharts:', error);\n",
              "      }\n",
              "      quickchartButtonEl.classList.remove('colab-df-spinner');\n",
              "      quickchartButtonEl.classList.add('colab-df-quickchart-complete');\n",
              "    }\n",
              "    (() => {\n",
              "      let quickchartButtonEl =\n",
              "        document.querySelector('#df-11fd286b-08ad-4b72-a799-d5e84395685f button');\n",
              "      quickchartButtonEl.style.display =\n",
              "        google.colab.kernel.accessAllowed ? 'block' : 'none';\n",
              "    })();\n",
              "  </script>\n",
              "</div>\n",
              "\n",
              "    </div>\n",
              "  </div>\n"
            ],
            "application/vnd.google.colaboratory.intrinsic+json": {
              "type": "dataframe",
              "summary": "{\n  \"name\": \"filtered_df\",\n  \"rows\": 4,\n  \"fields\": [\n    {\n      \"column\": \"genre\",\n      \"properties\": {\n        \"dtype\": \"string\",\n        \"num_unique_values\": 4,\n        \"samples\": [\n          \"Dance/Electronic\",\n          \"Pop\",\n          \"Alternative/Indie\"\n        ],\n        \"semantic_type\": \"\",\n        \"description\": \"\"\n      }\n    },\n    {\n      \"column\": \"danceability\",\n      \"properties\": {\n        \"dtype\": \"number\",\n        \"std\": 0.0528853843897754,\n        \"min\": 0.6617500000000001,\n        \"max\": 0.7655384615384615,\n        \"num_unique_values\": 4,\n        \"samples\": [\n          0.7550000000000001,\n          0.6775714285714286,\n          0.6617500000000001\n        ],\n        \"semantic_type\": \"\",\n        \"description\": \"\"\n      }\n    },\n    {\n      \"column\": \"loudness\",\n      \"properties\": {\n        \"dtype\": \"number\",\n        \"std\": 0.779561644976031,\n        \"min\": -6.917846153846154,\n        \"max\": -5.338,\n        \"num_unique_values\": 4,\n        \"samples\": [\n          -5.338,\n          -6.460357142857142,\n          -5.421\n        ],\n        \"semantic_type\": \"\",\n        \"description\": \"\"\n      }\n    },\n    {\n      \"column\": \"acousticness\",\n      \"properties\": {\n        \"dtype\": \"number\",\n        \"std\": 0.21098076720235656,\n        \"min\": 0.09944,\n        \"max\": 0.5835,\n        \"num_unique_values\": 4,\n        \"samples\": [\n          0.09944,\n          0.32384285714285715,\n          0.5835\n        ],\n        \"semantic_type\": \"\",\n        \"description\": \"\"\n      }\n    }\n  ]\n}"
            }
          },
          "metadata": {},
          "execution_count": 70
        }
      ],
      "source": [
        "filtered_df = df[df['genre'].isin(\n",
        "    ['Pop', 'Hip-Hop/Rap', 'Dance/Electronic', 'Alternative/Indie'])]\n",
        "filtered_df.groupby('genre')[['danceability','loudness','acousticness']].mean()\n",
        "\n"
      ]
    },
    {
      "cell_type": "markdown",
      "source": [
        "**How does the danceability score compare?**\n",
        "\n",
        "Hip-Hop/Rap (0.77) and Dance/Electronic (0.76) are the most danceable genres.\n",
        "Pop (0.68) follows with slightly lower danceability.\n",
        "Alternative/Indie (0.66) is the least danceable.\n"
      ],
      "metadata": {
        "id": "cU9iindSH7AG"
      },
      "id": "cU9iindSH7AG"
    },
    {
      "cell_type": "markdown",
      "source": [
        "**How does the loudness score compare?**\n",
        "\n",
        "Dance/Electronic (-5.34 dB) and Alternative/Indie (-5.42 dB) are louder than the rest.\n",
        "Pop (-6.46 dB) and Hip-Hop/Rap (-6.92 dB) are a bit quieter on average.\n"
      ],
      "metadata": {
        "id": "Z1n2gGYqH_xA"
      },
      "id": "Z1n2gGYqH_xA"
    },
    {
      "cell_type": "markdown",
      "source": [
        "**How does the acousticness score compare?**\n",
        "\n",
        "Alternative/Indie (0.58) has the highest acousticness, reflecting its use of real instruments.\n",
        "Pop (0.32) shows a balance between acoustic and synthetic sounds.\n",
        "Hip-Hop/Rap (0.19) and Dance/Electronic (0.10) are the least acoustic genres.\n"
      ],
      "metadata": {
        "id": "1y1H8KySIEdl"
      },
      "id": "1y1H8KySIEdl"
    },
    {
      "cell_type": "markdown",
      "source": [
        " These genres are dominant in the top rankings, showing that energetic and rhythmic genres like Pop and Hip-Hop/Rap tend to appear more frequently in the Top 50. On the other hand, Dance/Electronic and Alternative/Indie genres, while less frequent, still manage to make it to the list, indicating a broader diversity in listener preferences\n"
      ],
      "metadata": {
        "id": "E3HonuybILOW"
      },
      "id": "E3HonuybILOW"
    },
    {
      "cell_type": "markdown",
      "source": [
        "# Conclusions\n",
        "\n",
        "**What Makes a Song Reach the Spotify Top 50?**\n",
        "\n",
        "**Genre-wise**, Pop and Hip-Hop/Rap dominate the Top 50, making up more than half of the list. These genres likely align best with current listener preferences.\n",
        "\n",
        "**Audio characteristics matter**:\n",
        "\n",
        "* Hip-Hop/Rap shows the highest danceability, suggesting energetic, rhythm-driven songs perform well.\n",
        "\n",
        "* Pop songs balance between acoustic and electronic elements, offering broad appeal.\n",
        "\n",
        "**Popular artists** often appear multiple times, hinting that artist recognition and marketing power may boost a songs chances of entering the Top 50 - beyond just its audio features.\n",
        "\n",
        "**Energy and loudness go hand in hand**: Loud tracks tend to be more energetic (correlation of 0.79), which aligns with mainstream musics focus on intensity and impact.\n",
        "\n",
        "Most other features show weak or no correlation, meaning there is no strict formula - songs can differ widely and still be hits.\n",
        "\n",
        "While many songs follow common trends (high energy, danceability, tempo), the list also includes outliers - acoustic, instrumental, or live-feeling tracks - showing that musical diversity is still valued by listeners."
      ],
      "metadata": {
        "id": "Z80VjcYN9uzF"
      },
      "id": "Z80VjcYN9uzF"
    },
    {
      "cell_type": "markdown",
      "source": [
        "# Suggestions for improving the analysis:\n",
        "**Analyze track chart duration** - Determine whether certain songs are short-term hits or long-standing favorites.\n",
        "\n",
        "**Include play count data** - To understand which songs actually attract the most listeners, beyond just appearing in the Top 50.\n",
        "\n",
        "**Explore artist recurrence** - Investigate whether chart success is more strongly tied to the artist's name than to individual song features.\n",
        "\n",
        "**Add release dates** - This would help analyze the impact of recency on chart placement.\n",
        "\n",
        "**Compare with previous years data** - Analyze how genre and song characteristics have changed over time (e.g., comparing 2020 with 2019).\n",
        "\n",
        "**Expand the analysis to Top 100** - A larger dataset could reveal broader trends and reduce the impact of outliers, offering a more complete picture of popular music trends."
      ],
      "metadata": {
        "id": "s4Z2cN0-9xj5"
      },
      "id": "s4Z2cN0-9xj5"
    }
  ],
  "metadata": {
    "kernelspec": {
      "display_name": "Python [conda env:base] *",
      "language": "python",
      "name": "conda-base-py"
    },
    "language_info": {
      "codemirror_mode": {
        "name": "ipython",
        "version": 3
      },
      "file_extension": ".py",
      "mimetype": "text/x-python",
      "name": "python",
      "nbconvert_exporter": "python",
      "pygments_lexer": "ipython3",
      "version": "3.12.7"
    },
    "colab": {
      "provenance": []
    }
  },
  "nbformat": 4,
  "nbformat_minor": 5
}
